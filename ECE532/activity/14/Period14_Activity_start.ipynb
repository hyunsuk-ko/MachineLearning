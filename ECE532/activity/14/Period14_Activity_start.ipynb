{
 "cells": [
  {
   "cell_type": "code",
   "execution_count": 1,
   "metadata": {},
   "outputs": [],
   "source": [
    "import numpy as np\n",
    "import matplotlib.pyplot as plt "
   ]
  },
  {
   "cell_type": "markdown",
   "metadata": {},
   "source": [
    "#### 1a) "
   ]
  },
  {
   "cell_type": "code",
   "execution_count": 2,
   "metadata": {},
   "outputs": [
    {
     "name": "stdout",
     "output_type": "stream",
     "text": [
      "Unweighted adjacency matrix\n",
      "[[0 1 0 0 0 0 0 1]\n",
      " [1 0 1 0 0 0 0 0]\n",
      " [1 1 0 1 1 0 0 0]\n",
      " [0 0 1 0 1 0 0 0]\n",
      " [0 0 0 1 0 1 0 0]\n",
      " [0 0 0 0 1 0 1 0]\n",
      " [0 0 0 0 0 1 0 1]\n",
      " [1 0 0 0 0 0 1 0]]\n",
      " \n"
     ]
    }
   ],
   "source": [
    "# Circle topology\n",
    "# Unweighted adjacency matrix\n",
    "\n",
    "# Option 1: Manually enter the entries\n",
    "Atilde = np.array(\n",
    "         [[0,1,0,0,0,0,0,1],\n",
    "          [1,0,1,0,0,0,0,0],\n",
    "          [1,1,0,1,1,0,0,0],\n",
    "          [0,0,1,0,1,0,0,0],\n",
    "          [0,0,0,1,0,1,0,0],\n",
    "          [0,0,0,0,1,0,1,0],\n",
    "          [0,0,0,0,0,1,0,1],\n",
    "          [1,0,0,0,0,0,1,0]])\n",
    "\n",
    "# Option 2: or you can exploit the patterns\n",
    "# Atilde = np.zeros((8,8))\n",
    "# for i in range(8): # \n",
    "#     Atilde[i,(i+1)%8] = 1\n",
    "#     Atilde[i,(i-1)%8] = 1\n",
    "# Atilde[2,0] = 1\n",
    "# Atilde[2,4] = 1\n",
    "\n",
    "print('Unweighted adjacency matrix')\n",
    "print(Atilde)\n",
    "print(' ')"
   ]
  },
  {
   "cell_type": "markdown",
   "metadata": {},
   "source": [
    "#### 1b)"
   ]
  },
  {
   "cell_type": "code",
   "execution_count": 3,
   "metadata": {},
   "outputs": [
    {
     "name": "stdout",
     "output_type": "stream",
     "text": [
      "Weighted adjacency matrix\n",
      "[[0.    0.5   0.    0.    0.    0.    0.    0.5  ]\n",
      " [0.333 0.    0.5   0.    0.    0.    0.    0.   ]\n",
      " [0.333 0.5   0.    0.5   0.333 0.    0.    0.   ]\n",
      " [0.    0.    0.5   0.    0.333 0.    0.    0.   ]\n",
      " [0.    0.    0.    0.5   0.    0.5   0.    0.   ]\n",
      " [0.    0.    0.    0.    0.333 0.    0.5   0.   ]\n",
      " [0.    0.    0.    0.    0.    0.5   0.    0.5  ]\n",
      " [0.333 0.    0.    0.    0.    0.    0.5   0.   ]]\n"
     ]
    }
   ],
   "source": [
    "# Find weighted adjacency matrix\n",
    "# option 1: normalize columns with a for loop\n",
    "A = np.zeros((8,8), dtype=float)\n",
    "for k in range(8):\n",
    "    norm = np.sum(Atilde[:,k])\n",
    "    A[:,k] = Atilde[:,k] / norm\n",
    "    \n",
    "# option 2: normalize using numpy.sum() and broadcasting, in a single line\n",
    "# A = ???\n",
    "\n",
    "print('Weighted adjacency matrix')\n",
    "print(np.round_(A,3))"
   ]
  },
  {
   "cell_type": "markdown",
   "metadata": {},
   "source": [
    "#### 1c) and 1d)"
   ]
  },
  {
   "cell_type": "code",
   "execution_count": 4,
   "metadata": {},
   "outputs": [
    {
     "name": "stdout",
     "output_type": "stream",
     "text": [
      "b0 =  [[0.125]\n",
      " [0.125]\n",
      " [0.125]\n",
      " [0.125]\n",
      " [0.125]\n",
      " [0.125]\n",
      " [0.125]\n",
      " [0.125]]\n",
      " \n",
      "b1 = \n",
      "[[0.125]\n",
      " [0.104]\n",
      " [0.208]\n",
      " [0.104]\n",
      " [0.125]\n",
      " [0.104]\n",
      " [0.125]\n",
      " [0.104]]\n",
      " \n",
      "1000 iterations\n",
      "b =  [[0.11538462]\n",
      " [0.15384615]\n",
      " [0.23076923]\n",
      " [0.15384615]\n",
      " [0.11538462]\n",
      " [0.07692308]\n",
      " [0.07692308]\n",
      " [0.07692308]]\n"
     ]
    }
   ],
   "source": [
    "# Power method\n",
    "\n",
    "b0 = 0.125*np.ones((8,1))\n",
    "print('b0 = ', b0)\n",
    "print(' ')\n",
    "\n",
    "b1 = A @ b0\n",
    "print('b1 = ')\n",
    "print(np.round_(b1,3))\n",
    "print(' ')\n",
    "\n",
    "b = b0.copy()\n",
    "for k in range(1000):\n",
    "    b = A @ b\n",
    "    \n",
    "print('1000 iterations')\n",
    "print('b = ',b)"
   ]
  },
  {
   "cell_type": "markdown",
   "metadata": {},
   "source": [
    "#### 1e) Node 3 seems to be more important than other nodes."
   ]
  },
  {
   "cell_type": "markdown",
   "metadata": {},
   "source": [
    "#### 2a)"
   ]
  },
  {
   "cell_type": "code",
   "execution_count": 5,
   "metadata": {},
   "outputs": [
    {
     "name": "stdout",
     "output_type": "stream",
     "text": [
      "Unweighted adjacency matrix\n",
      "[[0 0 0 0 0 0 0 0 1]\n",
      " [1 0 0 0 0 0 0 0 1]\n",
      " [0 0 0 0 0 0 0 0 1]\n",
      " [0 0 0 0 0 0 0 0 1]\n",
      " [0 0 0 0 0 0 0 0 1]\n",
      " [0 0 0 0 0 0 0 0 1]\n",
      " [0 0 0 0 0 0 0 0 1]\n",
      " [0 0 0 0 0 0 0 0 1]\n",
      " [1 1 1 1 1 1 1 1 0]]\n",
      " \n"
     ]
    }
   ],
   "source": [
    "# Hub topology\n",
    "\n",
    "Atildehub = np.array(\n",
    "         [[0,0,0,0,0,0,0,0,1],\n",
    "          [1,0,0,0,0,0,0,0,1],\n",
    "          [0,0,0,0,0,0,0,0,1],\n",
    "          [0,0,0,0,0,0,0,0,1],\n",
    "          [0,0,0,0,0,0,0,0,1],\n",
    "          [0,0,0,0,0,0,0,0,1],\n",
    "          [0,0,0,0,0,0,0,0,1],\n",
    "          [0,0,0,0,0,0,0,0,1],\n",
    "          [1,1,1,1,1,1,1,1,0]\n",
    "         ])\n",
    "\n",
    "print('Unweighted adjacency matrix')\n",
    "print(Atildehub)\n",
    "print(' ')"
   ]
  },
  {
   "cell_type": "markdown",
   "metadata": {},
   "source": [
    "#### 2b)"
   ]
  },
  {
   "cell_type": "code",
   "execution_count": 6,
   "metadata": {},
   "outputs": [
    {
     "name": "stdout",
     "output_type": "stream",
     "text": [
      "Weighted adjacency matrix\n",
      "[[0.    0.    0.    0.    0.    0.    0.    0.    0.125]\n",
      " [0.5   0.    0.    0.    0.    0.    0.    0.    0.125]\n",
      " [0.    0.    0.    0.    0.    0.    0.    0.    0.125]\n",
      " [0.    0.    0.    0.    0.    0.    0.    0.    0.125]\n",
      " [0.    0.    0.    0.    0.    0.    0.    0.    0.125]\n",
      " [0.    0.    0.    0.    0.    0.    0.    0.    0.125]\n",
      " [0.    0.    0.    0.    0.    0.    0.    0.    0.125]\n",
      " [0.    0.    0.    0.    0.    0.    0.    0.    0.125]\n",
      " [0.5   1.    1.    1.    1.    1.    1.    1.    0.   ]]\n"
     ]
    }
   ],
   "source": [
    "# find weighted adjacency matrix\n",
    "\n",
    "Ahub = np.zeros((9,9), dtype=float)\n",
    "for k in range(9):\n",
    "    norm = np.sum(Atildehub[:,k])\n",
    "    Ahub[:,k] = Atildehub[:,k] / norm  \n",
    "\n",
    "print('Weighted adjacency matrix')\n",
    "print(Ahub)"
   ]
  },
  {
   "cell_type": "markdown",
   "metadata": {},
   "source": [
    "#### 2c) and 2d)"
   ]
  },
  {
   "cell_type": "code",
   "execution_count": 7,
   "metadata": {},
   "outputs": [
    {
     "name": "stdout",
     "output_type": "stream",
     "text": [
      "b0 =  [[0.11111111]\n",
      " [0.11111111]\n",
      " [0.11111111]\n",
      " [0.11111111]\n",
      " [0.11111111]\n",
      " [0.11111111]\n",
      " [0.11111111]\n",
      " [0.11111111]\n",
      " [0.11111111]]\n",
      " \n",
      "bhub1 =  [[0.014]\n",
      " [0.069]\n",
      " [0.014]\n",
      " [0.014]\n",
      " [0.014]\n",
      " [0.014]\n",
      " [0.014]\n",
      " [0.014]\n",
      " [0.833]]\n",
      " \n",
      "1000 iterations\n",
      "bhub =  [[0.061]\n",
      " [0.091]\n",
      " [0.061]\n",
      " [0.061]\n",
      " [0.061]\n",
      " [0.061]\n",
      " [0.061]\n",
      " [0.061]\n",
      " [0.485]]\n",
      " \n",
      "100 iterations\n",
      "bhubr =  [[0.06065482]\n",
      " [0.09093172]\n",
      " [0.06065482]\n",
      " [0.06065482]\n",
      " [0.06065482]\n",
      " [0.06065482]\n",
      " [0.06065482]\n",
      " [0.06065482]\n",
      " [0.48448454]] 3\n"
     ]
    }
   ],
   "source": [
    "b0 = (1/9)*np.ones((9,1))\n",
    "print('b0 = ', b0)\n",
    "print(' ')\n",
    "\n",
    "bhub1 = Ahub @ b0\n",
    "print('bhub1 = ', np.round_(bhub1,3))\n",
    "print(' ')\n",
    "\n",
    "bhub = b0.copy()\n",
    "for k in range(1000):\n",
    "    bhub = Ahub @ bhub\n",
    "    \n",
    "print('1000 iterations')\n",
    "print('bhub = ', np.round_(bhub,3))\n",
    "print(' ')\n",
    "\n",
    "bhubr = b0.copy()\n",
    "for k in range(100):\n",
    "    bhubr = Ahub @ bhubr\n",
    "    \n",
    "print('100 iterations')\n",
    "print('bhubr = ', bhubr,3)"
   ]
  },
  {
   "cell_type": "markdown",
   "metadata": {},
   "source": [
    "#### 2-e) Node 9 seems to be more important than other nodes.\n",
    "\n",
    "#### 2-f)"
   ]
  },
  {
   "cell_type": "code",
   "execution_count": 8,
   "metadata": {},
   "outputs": [
    {
     "name": "stdout",
     "output_type": "stream",
     "text": [
      "1000 iterations\n",
      "bhubx =  [[0.06138688]\n",
      " [0.09127147]\n",
      " [0.06138688]\n",
      " [0.06138688]\n",
      " [0.06138688]\n",
      " [0.06138688]\n",
      " [0.06138688]\n",
      " [0.06138688]\n",
      " [0.47902036]] 3\n",
      " \n"
     ]
    }
   ],
   "source": [
    "bhubx = b0.copy()\n",
    "for k in range(60):\n",
    "    bhubx = Ahub @ bhubx\n",
    "    \n",
    "print('1000 iterations')\n",
    "print('bhubx = ', bhubx,3)\n",
    "print(' ')"
   ]
  },
  {
   "cell_type": "code",
   "execution_count": null,
   "metadata": {},
   "outputs": [],
   "source": []
  }
 ],
 "metadata": {
  "kernelspec": {
   "display_name": "Python 3",
   "language": "python",
   "name": "python3"
  },
  "language_info": {
   "codemirror_mode": {
    "name": "ipython",
    "version": 3
   },
   "file_extension": ".py",
   "mimetype": "text/x-python",
   "name": "python",
   "nbconvert_exporter": "python",
   "pygments_lexer": "ipython3",
   "version": "3.8.8"
  }
 },
 "nbformat": 4,
 "nbformat_minor": 2
}
