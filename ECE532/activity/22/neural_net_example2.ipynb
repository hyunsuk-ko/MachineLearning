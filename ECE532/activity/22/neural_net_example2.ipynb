{
 "cells": [
  {
   "cell_type": "markdown",
   "metadata": {},
   "source": [
    "## Neural network example\n"
   ]
  },
  {
   "cell_type": "code",
   "execution_count": null,
   "metadata": {},
   "outputs": [],
   "source": [
    "import numpy as np\n",
    "import matplotlib.pyplot as plt\n",
    "\n",
    "p = int(2) #features\n",
    "n = int(10000) #examples\n",
    "\n",
    "## generate training data\n",
    "X = np.random.rand(n,p)-0.5\n",
    "Y1 = np.sign(np.sum(X**2,1)-.1).reshape((-1, 1))/2+.5\n",
    "Y2 = np.sign(5*X[:,[0]]**3-X[:,[1]])/2+.5\n",
    "Y = np.hstack((Y1, Y2))"
   ]
  },
  {
   "cell_type": "code",
   "execution_count": null,
   "metadata": {
    "scrolled": false
   },
   "outputs": [],
   "source": [
    "# Plot training data for first classification problem\n",
    "plt.scatter(X[:,0], X[:,1], c=Y1.flatten())\n",
    "plt.title('Labeled data, first classifier')\n",
    "plt.show()"
   ]
  },
  {
   "cell_type": "code",
   "execution_count": null,
   "metadata": {},
   "outputs": [],
   "source": [
    "# Plot training data for second classification problem \n",
    "plt.scatter(X[:,0], X[:,1], c=Y2.flatten())\n",
    "plt.title('Labeled data, second classifier')\n",
    "plt.show()"
   ]
  },
  {
   "cell_type": "code",
   "execution_count": null,
   "metadata": {},
   "outputs": [],
   "source": [
    "## Train NN\n",
    "Xb = np.hstack((np.ones((n,1)), X))\n",
    "q = np.shape(Y)[1] #number of classification problems\n",
    "M = 3 #number of hidden nodes\n",
    "\n",
    "## initial weights\n",
    "V = np.random.randn(M+1, q); \n",
    "W = np.random.randn(p+1, M);\n",
    "\n",
    "alpha = 0.1 #step size\n",
    "L = 10 #number of epochs\n",
    "\n",
    "def logsig(_x):\n",
    "    return 1/(1+np.exp(-_x))\n",
    "        \n",
    "for epoch in range(L):\n",
    "    ind = np.random.permutation(n)\n",
    "    for i in ind:\n",
    "        # Forward-propagate\n",
    "        H = logsig(np.hstack((np.ones((1,1)), Xb[[i],:]@W)))\n",
    "        Yhat = logsig(H@V)\n",
    "         # Backpropagate\n",
    "        delta = (Yhat-Y[[i],:])*Yhat*(1-Yhat)\n",
    "        Vnew = V-alpha*H.T@delta\n",
    "        gamma = delta@V[1:,:].T*H[:,1:]*(1-H[:,1:])\n",
    "        Wnew = W - alpha*Xb[[i],:].T@gamma\n",
    "        V = Vnew\n",
    "        W = Wnew\n",
    "    print('epoch: ', epoch)"
   ]
  },
  {
   "cell_type": "code",
   "execution_count": null,
   "metadata": {},
   "outputs": [],
   "source": [
    "## Final predicted labels (on training data)\n",
    "H = logsig(np.hstack((np.ones((n,1)), Xb@W)))\n",
    "Yhat = logsig(H@V)"
   ]
  },
  {
   "cell_type": "code",
   "execution_count": null,
   "metadata": {},
   "outputs": [],
   "source": [
    "plt.scatter(X[:,0], X[:,1], c=Yhat[:,0])\n",
    "plt.title('Predicted Labels, first classifier')\n",
    "plt.show()"
   ]
  },
  {
   "cell_type": "code",
   "execution_count": null,
   "metadata": {},
   "outputs": [],
   "source": [
    "plt.scatter(X[:,0], X[:,1], c=Yhat[:,1])\n",
    "plt.title('Predicted Labels, second classifier')\n",
    "plt.show()"
   ]
  },
  {
   "cell_type": "code",
   "execution_count": null,
   "metadata": {},
   "outputs": [],
   "source": [
    "err_c1 = np.sum(abs(np.round(Yhat[:,0])-Y[:,0]))\n",
    "print('Errors, first classifier:', err_c1)\n",
    "\n",
    "err_c2 = np.sum(abs(np.round(Yhat[:,1])-Y[:,1]))\n",
    "print('Errors, second classifier:', err_c2)"
   ]
  },
  {
   "cell_type": "code",
   "execution_count": null,
   "metadata": {},
   "outputs": [],
   "source": []
  }
 ],
 "metadata": {
  "kernelspec": {
   "display_name": "Python 3",
   "language": "python",
   "name": "python3"
  },
  "language_info": {
   "codemirror_mode": {
    "name": "ipython",
    "version": 3
   },
   "file_extension": ".py",
   "mimetype": "text/x-python",
   "name": "python",
   "nbconvert_exporter": "python",
   "pygments_lexer": "ipython3",
   "version": "3.8.8"
  }
 },
 "nbformat": 4,
 "nbformat_minor": 4
}
