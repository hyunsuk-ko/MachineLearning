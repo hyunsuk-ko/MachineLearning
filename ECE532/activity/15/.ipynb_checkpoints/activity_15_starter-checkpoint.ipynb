{
 "cells": [
  {
   "cell_type": "code",
   "execution_count": 1,
   "metadata": {},
   "outputs": [],
   "source": [
    "import numpy as np\n",
    "from scipy.io import loadmat"
   ]
  },
  {
   "cell_type": "markdown",
   "metadata": {},
   "source": [
    "---\n",
    "# Question 2\n",
    "---"
   ]
  },
  {
   "cell_type": "code",
   "execution_count": 6,
   "metadata": {},
   "outputs": [],
   "source": [
    "Xtrue = loadmat(\"incomplete.mat\")[\"Xtrue\"]\n",
    "Y1 = loadmat(\"incomplete.mat\")[\"Y1\"]\n",
    "Y2 = loadmat(\"incomplete.mat\")[\"Y2\"]\n",
    "Y3 = loadmat(\"incomplete.mat\")[\"Y3\"]"
   ]
  },
  {
   "cell_type": "code",
   "execution_count": 11,
   "metadata": {},
   "outputs": [],
   "source": [
    "def ItSingValThresh(Y, r): # matrix with missing entries | rank\n",
    "    \"\"\"\n",
    "    Iterative Singular Value Thresholding function for Matrix Completion\n",
    "    \"\"\"\n",
    "    tol = 10**(-3)  # difference between iterates at termination / threshold\n",
    "    max_its = 100; # repetition\n",
    "    n,p = Y.shape \n",
    "    X = np.array(Y) #make a copy so operations do not mutate the original\n",
    "    X[np.isnan(X)] = 0 # Fill in missing entries with zeros\n",
    "\n",
    "    err = 10**6 \n",
    "    itt = 0\n",
    "    \n",
    "    while err > tol and itt < max_its:\n",
    "        U,s,VT = np.linalg.svd(X, full_matrices=False)\n",
    "        V, S = VT.T, np.diag(s)\n",
    "        Xnew = U[:,:r] @ S[:r,:r] @ VT[:r,:]  ### Complete this line\n",
    "        for i in range(n):\n",
    "            for j in range(p):\n",
    "                if ~np.isnan(Y[i,j]):  #replace Xnew with known entries\n",
    "                    Xnew[i,j] = Y[i,j]\n",
    "        err = np.linalg.norm(X-Xnew,'fro') \n",
    "        X = Xnew\n",
    "        itt += 1\n",
    "    return X"
   ]
  },
  {
   "cell_type": "code",
   "execution_count": 23,
   "metadata": {},
   "outputs": [
    {
     "name": "stdout",
     "output_type": "stream",
     "text": [
      "0\n",
      "0\n",
      "0\n"
     ]
    }
   ],
   "source": [
    "print(np.linalg.matrix_rank(Y1))\n",
    "print(np.linalg.matrix_rank(Y2))\n",
    "print(np.linalg.matrix_rank(Y3))"
   ]
  },
  {
   "cell_type": "code",
   "execution_count": 26,
   "metadata": {},
   "outputs": [
    {
     "name": "stdout",
     "output_type": "stream",
     "text": [
      "136\n",
      "76\n",
      "16\n"
     ]
    }
   ],
   "source": [
    "print(np.isnan(Y1).sum())\n",
    "print(np.isnan(Y2).sum())\n",
    "print(np.isnan(Y3).sum())"
   ]
  },
  {
   "cell_type": "markdown",
   "metadata": {},
   "source": [
    "### 2(a) The more missing values we have, the lower accuracy we got."
   ]
  },
  {
   "cell_type": "code",
   "execution_count": 16,
   "metadata": {},
   "outputs": [
    {
     "data": {
      "text/plain": [
       "87.2466770509972"
      ]
     },
     "execution_count": 16,
     "metadata": {},
     "output_type": "execute_result"
    }
   ],
   "source": [
    "np.linalg.norm(Xtrue - ItSingValThresh(Y1, 2), 'fro')"
   ]
  },
  {
   "cell_type": "code",
   "execution_count": 17,
   "metadata": {},
   "outputs": [
    {
     "data": {
      "text/plain": [
       "0.004735599527392768"
      ]
     },
     "execution_count": 17,
     "metadata": {},
     "output_type": "execute_result"
    }
   ],
   "source": [
    "np.linalg.norm(Xtrue - ItSingValThresh(Y2, 2), 'fro')"
   ]
  },
  {
   "cell_type": "code",
   "execution_count": 18,
   "metadata": {},
   "outputs": [
    {
     "data": {
      "text/plain": [
       "0.0007153218655179794"
      ]
     },
     "execution_count": 18,
     "metadata": {},
     "output_type": "execute_result"
    }
   ],
   "source": [
    "np.linalg.norm(Xtrue - ItSingValThresh(Y3, 2), 'fro')"
   ]
  },
  {
   "cell_type": "markdown",
   "metadata": {},
   "source": [
    "### 2(b) If we assume wrong rank of a matrix, the error arised from matrix completion process increases."
   ]
  },
  {
   "cell_type": "code",
   "execution_count": 19,
   "metadata": {},
   "outputs": [
    {
     "data": {
      "text/plain": [
       "128.7780484677205"
      ]
     },
     "execution_count": 19,
     "metadata": {},
     "output_type": "execute_result"
    }
   ],
   "source": [
    "np.linalg.norm(Xtrue - ItSingValThresh(Y1, 3), 'fro')"
   ]
  },
  {
   "cell_type": "code",
   "execution_count": 20,
   "metadata": {},
   "outputs": [
    {
     "data": {
      "text/plain": [
       "48.97940976510764"
      ]
     },
     "execution_count": 20,
     "metadata": {},
     "output_type": "execute_result"
    }
   ],
   "source": [
    "np.linalg.norm(Xtrue - ItSingValThresh(Y2, 3), 'fro')"
   ]
  },
  {
   "cell_type": "code",
   "execution_count": 21,
   "metadata": {},
   "outputs": [
    {
     "data": {
      "text/plain": [
       "20.785069891601953"
      ]
     },
     "execution_count": 21,
     "metadata": {},
     "output_type": "execute_result"
    }
   ],
   "source": [
    "np.linalg.norm(Xtrue - ItSingValThresh(Y3, 3), 'fro')"
   ]
  },
  {
   "cell_type": "code",
   "execution_count": null,
   "metadata": {},
   "outputs": [],
   "source": []
  }
 ],
 "metadata": {
  "kernelspec": {
   "display_name": "Python 3",
   "language": "python",
   "name": "python3"
  },
  "language_info": {
   "codemirror_mode": {
    "name": "ipython",
    "version": 3
   },
   "file_extension": ".py",
   "mimetype": "text/x-python",
   "name": "python",
   "nbconvert_exporter": "python",
   "pygments_lexer": "ipython3",
   "version": "3.8.8"
  }
 },
 "nbformat": 4,
 "nbformat_minor": 4
}
