{
 "cells": [
  {
   "cell_type": "code",
   "execution_count": 62,
   "metadata": {
    "scrolled": true
   },
   "outputs": [
    {
     "name": "stdout",
     "output_type": "stream",
     "text": [
      "(128, 9)\n",
      "(128, 10)\n"
     ]
    }
   ],
   "source": [
    "import numpy as np\n",
    "import matplotlib.pyplot as plt\n",
    "from scipy.io import loadmat\n",
    "dataset = loadmat('face_emotion_data.mat')\n",
    "\n",
    "X, Y = dataset['X'], dataset['y']\n",
    "n, p = np.shape(X)\n",
    "\n",
    "Y[Y==-1] = 0  # use 0/1 for labels instead of -1/+1\\\n",
    "print(X.shape)\n",
    "X = np.hstack((np.ones((n,1)), X))  # append a column of ones\n",
    "print(X.shape)"
   ]
  },
  {
   "cell_type": "markdown",
   "metadata": {},
   "source": [
    "### 1. Face Emotion Classification with a three layer neural network\n",
    "\n",
    "In this problem we return to the face emotion data studied previously. You may it find very helpful to use code from a past activity.\n",
    "\n",
    "(a) Build a classifier using a full connected three layer neural network with logistic activation functions. Your network should\n",
    "\n",
    "- take a vector $x \\in R^{10}$ as input (nine features plus a constant offset),\n",
    "- have a single, fully connected hidden layer with 32 neurons\n",
    "- output a scalar $\\hat{y}$\n",
    "\n",
    "Note that since the logistic activation function is always positive, your decision should be as follows: $\\hat{y} > 0.5$ corresponds to a 'happy'face, while $\\hat{y} \\leq 0.5$  is not happy.\n",
    "\n",
    "(b) Train your classifier using stochastic gradient descent (start with a step size of \n",
    "$α$ = 0.05) and create a plot with the number of epochs on the horizontal axis, and training accuracy on the vertical axis.  Does your classifier achieve 0% training error?  If so,  how many epoch does it take for your classifier to achieve perfect classification on the training set? "
   ]
  },
  {
   "cell_type": "code",
   "execution_count": 4,
   "metadata": {},
   "outputs": [],
   "source": [
    "def logsig(_x):\n",
    "    return 1/(1+np.exp(-_x))"
   ]
  },
  {
   "cell_type": "code",
   "execution_count": 36,
   "metadata": {},
   "outputs": [
    {
     "name": "stderr",
     "output_type": "stream",
     "text": [
      "<ipython-input-36-e2d5ecfcb2d6>:28: DeprecationWarning: elementwise comparison failed; this will raise an error in the future.\n",
      "  err_c1 =  np.sum(np.array(list(ind_yhat_dict.values())) == Y[:,0])\n"
     ]
    },
    {
     "data": {
      "text/plain": [
       "[1.0, 0.0703125, 0.1015625, 0.0078125, 0.0]"
      ]
     },
     "execution_count": 36,
     "metadata": {},
     "output_type": "execute_result"
    }
   ],
   "source": [
    "## Train NN\n",
    "Xb = X #np.hstack((np.ones((n,1)), X))\n",
    "q = np.shape(Y)[1] #number of classification problems\n",
    "M = 32 #number of hidden nodes\n",
    "\n",
    "alpha = 0.05 #step size\n",
    "L = np.arange(0,50,10) #number of epochs = you cycle through all the training data one time, in random order\n",
    "error_rates = []\n",
    "\n",
    "def run_epoch(L):\n",
    "    ind_yhat_dict = dict()\n",
    "    ## initial weights\n",
    "    V = np.random.randn(M+1, q); \n",
    "    W = np.random.randn(p+1, M);\n",
    "    ind_yhat_dict = dict()\n",
    "    for epoch in range(L):\n",
    "        ind = np.random.permutation(n)\n",
    "        for i in ind:\n",
    "            # Forward-propagate\n",
    "            H = logsig(np.hstack((np.ones((1,1)), Xb[[i],:]@W)))\n",
    "            Yhat = logsig(H@V)\n",
    "             # Backpropagate\n",
    "            delta = (Yhat-Y[[i],:])*Yhat*(1-Yhat)\n",
    "            Vnew = V-alpha*H.T@delta\n",
    "            gamma = delta@V[1:,:].T*H[:,1:]*(1-H[:,1:])\n",
    "            Wnew = W - alpha*Xb[[i],:].T@gamma\n",
    "            V = Vnew\n",
    "            W = Wnew\n",
    "            ind_yhat_dict[i] = int(Yhat > 0.5)\n",
    "\n",
    "    ind_yhat_dict = dict(sorted(ind_yhat_dict.items()))\n",
    "    err_c1 =  np.sum(np.array(list(ind_yhat_dict.values())) == Y[:,0])\n",
    "    error_rate = 1 - (err_c1 / np.shape(Y)[0])\n",
    "    return error_rate\n",
    "\n",
    "\n",
    "for epoch in L:\n",
    "    rate = run_epoch(epoch)\n",
    "    error_rates.append(rate)\n",
    "\n",
    "error_rates"
   ]
  },
  {
   "cell_type": "code",
   "execution_count": 37,
   "metadata": {},
   "outputs": [
    {
     "data": {
      "image/png": "[encoded data removed]",
      "text/plain": [
       "<Figure size 432x288 with 1 Axes>"
      ]
     },
     "metadata": {
      "needs_background": "light"
     },
     "output_type": "display_data"
    }
   ],
   "source": [
    "import matplotlib.pyplot as plt \n",
    "\n",
    "plt.plot(L, error_rates)\n",
    "plt.title('The graph of Error Rates across Epoch')\n",
    "plt.xlabel('Epoch')\n",
    "plt.ylabel('Error Rate')\n",
    "plt.xlim(0,50)\n",
    "plt.show()"
   ]
  },
  {
   "cell_type": "markdown",
   "metadata": {},
   "source": [
    "(c) Find a more realistic estimate of the accuracy of your classifier by using 8-fold cross validation.  Can you achieve perfect test accuracy?"
   ]
  },
  {
   "cell_type": "code",
   "execution_count": 38,
   "metadata": {},
   "outputs": [],
   "source": [
    "X_subsets = [X[:16,:], X[16:32,:], X[32:48,:], X[48:64,:], X[64:80,:], X[80:96,:], X[96:112,:], X[112:,:]]\n",
    "y_subsets = [Y[:16,:], Y[16:32,:], Y[32:48,:], Y[48:64,:], Y[64:80,:], Y[80:96,:], Y[96:112,:], Y[112:,:]]"
   ]
  },
  {
   "cell_type": "code",
   "execution_count": 72,
   "metadata": {},
   "outputs": [],
   "source": [
    "err_sum = 0\n",
    "for i in range(8):\n",
    "    for j in range(8):\n",
    "        if i == j:\n",
    "            continue\n",
    "            \n",
    "        test_idx_1 = np.arange(i * 16, (i+1) * 16)\n",
    "        test_idx_2 = np.arange(j * 16, (j+1) * 16)\n",
    "        train_idx = np.setdiff1d(np.arange(128), test_idx_1)\n",
    "        train_idx = np.setdiff1d(train_idx, test_idx_2)\n",
    "        X_train, y_train = X[train_idx, :], y[train_idx, :]\n",
    "        X_test_1, y_test_1 = X[test_idx_1, :], y[test_idx_1, :]\n",
    "        X_test_2, y_test_2 = X[test_idx_2, :], y[test_idx_2, :]\n",
    "        min_err, min_w, min_v = np.Inf, None, None\n",
    "        \n",
    "        ind_yhat_dict = dict()\n",
    "        n, p = np.shape(X_train)\n",
    "        q = np.shape(y_train)[1] #number of classification problems\n",
    "        M = 32 #number of hidden nodes\n",
    "        \n",
    "        ## initial weights\n",
    "        V = np.random.randn(M+1, q); \n",
    "        W = np.random.randn(p+1, M);\n",
    "        V_list = []\n",
    "        W_list = []\n",
    "        for epoch in range(30):\n",
    "            ind = np.random.permutation(n)\n",
    "            for i in ind:\n",
    "                # Forward-propagate\n",
    "                H = logsig(np.hstack((np.ones((1,1)), X_train[[i],:]@W)))\n",
    "                Yhat = logsig(H@V)\n",
    "                 # Backpropagate\n",
    "                delta = (Yhat-y_train[[i],:])*Yhat*(1-Yhat)\n",
    "                Vnew = V-alpha*H.T@delta\n",
    "                gamma = delta@V[1:,:].T*H[:,1:]*(1-H[:,1:])\n",
    "                Wnew = W - alpha*X_train[[i],:].T@gamma\n",
    "                V = Vnew\n",
    "                W = Wnew\n",
    "                ind_yhat_dict[i] = int(Yhat > 0.5)\n",
    "                \n",
    "        # 각 train set 별로 error rate가 가장 낮은 V와 W가 최종 V와 W.\n",
    "                \n",
    "                      \n",
    "        for epoch in range(30):\n",
    "            ind = np.random.permutation(n)\n",
    "            for i in ind:\n",
    "                # Forward-propagate\n",
    "                H = logsig(np.hstack((np.ones((1,1)), X_test_1[[i],:]@W)))\n",
    "                Yhat = logsig(H@V)\n",
    "                 # Backpropagate\n",
    "                delta = (Yhat-y_t[[i],:])*Yhat*(1-Yhat)\n",
    "                Vnew = V-alpha*H.T@delta\n",
    "                gamma = delta@V[1:,:].T*H[:,1:]*(1-H[:,1:])\n",
    "                Wnew = W - alpha*X_train[[i],:].T@gamma\n",
    "                V = Vnew\n",
    "                W = Wnew\n",
    "                ind_yhat_dict[i] = int(Yhat > 0.5)       \n",
    "        err = np.mean(!= y_test_1)"
   ]
  },
  {
   "cell_type": "markdown",
   "metadata": {},
   "source": [
    "### 2. Face Emotion Classification with Kernel Classifier\n",
    "\n",
    "In this problem you will apply a kernel classifier to the face emotion dataset. You may find it very helpful to use code from an activity.\n",
    "\n",
    "(a) Build a kernel classifier using\n",
    "\n",
    "- the squared error loss function\n",
    "- an $l_2$ regularizer with $\\lambda = 0.5$.\n",
    "- the Gaussian Kernel $K(u,v) = exp(-||u-v||^2 / (2\\sigma^2)$.\\\n",
    "\n",
    "(b) Train your classifier choosing for different values of $\\sigma$ and create a plot with $\\sigma$ on the hortizontal axis and accuracy on the vertical axis and comment on the plot. Does your classifier achieve 0% training error?"
   ]
  },
  {
   "cell_type": "code",
   "execution_count": null,
   "metadata": {},
   "outputs": [],
   "source": []
  },
  {
   "cell_type": "markdown",
   "metadata": {},
   "source": [
    "(c) Find a more realistic estimate of the accuracy of your classifier by using 8-fold cross validation. Can you achieve perfect test accuracy?"
   ]
  },
  {
   "cell_type": "code",
   "execution_count": null,
   "metadata": {},
   "outputs": [],
   "source": []
  }
 ],
 "metadata": {
  "kernelspec": {
   "display_name": "Python 3",
   "language": "python",
   "name": "python3"
  },
  "language_info": {
   "codemirror_mode": {
    "name": "ipython",
    "version": 3
   },
   "file_extension": ".py",
   "mimetype": "text/x-python",
   "name": "python",
   "nbconvert_exporter": "python",
   "pygments_lexer": "ipython3",
   "version": "3.8.8"
  }
 },
 "nbformat": 4,
 "nbformat_minor": 2
}
