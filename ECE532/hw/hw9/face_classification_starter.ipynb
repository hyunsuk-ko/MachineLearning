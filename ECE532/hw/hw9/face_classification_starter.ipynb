{
 "cells": [
  {
   "cell_type": "markdown",
   "metadata": {},
   "source": [
    "### 1. Face Emotion Classification with a three layer neural network\n",
    "\n",
    "In this problem we return to the face emotion data studied previously. You may it find very helpful to use code from a past activity.\n",
    "\n",
    "(a) Build a classifier using a full connected three layer neural network with logistic activation functions. Your network should\n",
    "\n",
    "- take a vector $x \\in R^{10}$ as input (nine features plus a constant offset),\n",
    "- have a single, fully connected hidden layer with 32 neurons\n",
    "- output a scalar $\\hat{y}$\n",
    "\n",
    "Note that since the logistic activation function is always positive, your decision should be as follows: $\\hat{y} > 0.5$ corresponds to a 'happy'face, while $\\hat{y} \\leq 0.5$  is not happy.\n",
    "\n",
    "(b) Train your classifier using stochastic gradient descent (start with a step size of \n",
    "$α$ = 0.05) and create a plot with the number of epochs on the horizontal axis, and training accuracy on the vertical axis.  Does your classifier achieve 0% training error?  If so,  how many epoch does it take for your classifier to achieve perfect classification on the training set? "
   ]
  },
  {
   "cell_type": "code",
   "execution_count": 1,
   "metadata": {},
   "outputs": [],
   "source": [
    "def logsig(_x):\n",
    "    return 1/(1+np.exp(-_x))"
   ]
  },
  {
   "cell_type": "code",
   "execution_count": 2,
   "metadata": {},
   "outputs": [],
   "source": [
    "def run_epoch(L, M, q, p):\n",
    "    ind_yhat_dict = dict()\n",
    "    ## initial weights\n",
    "    V = np.random.randn(M+1, q); \n",
    "    #print(\"V shape:\", V.shape)\n",
    "    W = np.random.randn(p+1, M);\n",
    "    #print(\"W.shape:\",W.shape)\n",
    "    for epoch in range(L):\n",
    "        ind = np.random.permutation(n)\n",
    "        for i in ind:\n",
    "            # Forward-propagate\n",
    "            #print(\"Xb shape:\", Xb.shape)\n",
    "            #print(\"Xb[[i],:] shape:\",  Xb[[i],:].shape)\n",
    "            H = logsig(np.hstack((np.ones((1,1)), Xb[[i],:]@W)))\n",
    "            #print(\"H shape:\", H.shape)\n",
    "            Yhat = logsig(H@V)\n",
    "             # Backpropagate\n",
    "            delta = (Yhat-Y[[i],:])*Yhat*(1-Yhat)\n",
    "            Vnew = V-alpha*H.T@delta\n",
    "            gamma = delta@V[1:,:].T*H[:,1:]*(1-H[:,1:])\n",
    "            Wnew = W - alpha*Xb[[i],:].T@gamma\n",
    "            V = Vnew\n",
    "            W = Wnew\n",
    "            ind_yhat_dict[i] = int(Yhat > 0.5)\n",
    "\n",
    "    ind_yhat_dict = dict(sorted(ind_yhat_dict.items()))\n",
    "    err_c1 =  np.sum(np.array(list(ind_yhat_dict.values())) == Y[:,0])\n",
    "    error_rate = 1 - (err_c1 / np.shape(Y)[0])\n",
    "    return error_rate"
   ]
  },
  {
   "cell_type": "code",
   "execution_count": 3,
   "metadata": {},
   "outputs": [
    {
     "name": "stderr",
     "output_type": "stream",
     "text": [
      "<ipython-input-2-e0be4437905d>:27: DeprecationWarning: elementwise comparison failed; this will raise an error in the future.\n",
      "  err_c1 =  np.sum(np.array(list(ind_yhat_dict.values())) == Y[:,0])\n"
     ]
    },
    {
     "data": {
      "text/plain": [
       "[1.0, 0.1171875, 0.0, 0.0, 0.0]"
      ]
     },
     "execution_count": 3,
     "metadata": {},
     "output_type": "execute_result"
    }
   ],
   "source": [
    "import numpy as np\n",
    "import matplotlib.pyplot as plt\n",
    "from scipy.io import loadmat\n",
    "dataset = loadmat('face_emotion_data.mat')\n",
    "\n",
    "X, Y = dataset['X'], dataset['y']\n",
    "n, p = np.shape(X)\n",
    "\n",
    "Y[Y==-1] = 0  # use 0/1 for labels instead of -1/+1\\\n",
    "X = np.hstack((np.ones((n,1)), X))  # append a column of ones\n",
    "\n",
    "## Train NN\n",
    "Xb = X #np.hstack((np.ones((n,1)), X))\n",
    "#print(\"Xb shape:\", Xb.shape)\n",
    "q = np.shape(Y)[1] #number of classification problems\n",
    "#print(q)\n",
    "M = 32 #number of hidden nodes\n",
    "\n",
    "alpha = 0.05 #step size\n",
    "L = np.arange(0,50,10) #number of epochs = you cycle through all the training data one time, in random order\n",
    "error_rates = []\n",
    "\n",
    "for epoch in L:\n",
    "    rate = run_epoch(epoch, M, q, p)\n",
    "    error_rates.append(rate)\n",
    "\n",
    "error_rates"
   ]
  },
  {
   "cell_type": "code",
   "execution_count": 4,
   "metadata": {},
   "outputs": [
    {
     "data": {
      "image/png": "[encoded data removed]",
      "text/plain": [
       "<Figure size 432x288 with 1 Axes>"
      ]
     },
     "metadata": {
      "needs_background": "light"
     },
     "output_type": "display_data"
    }
   ],
   "source": [
    "import matplotlib.pyplot as plt \n",
    "\n",
    "plt.plot(L, error_rates)\n",
    "plt.title('The graph of Error Rates across Epoch')\n",
    "plt.xlabel('Epoch')\n",
    "plt.ylabel('Error Rate')\n",
    "plt.xlim(0,50)\n",
    "plt.show()"
   ]
  },
  {
   "cell_type": "markdown",
   "metadata": {},
   "source": [
    "(c) Find a more realistic estimate of the accuracy of your classifier by using 8-fold cross validation.  Can you achieve perfect test accuracy?"
   ]
  },
  {
   "cell_type": "code",
   "execution_count": 5,
   "metadata": {},
   "outputs": [],
   "source": [
    "X_subsets = [X[:16,:], X[16:32,:], X[32:48,:], X[48:64,:], X[64:80,:], X[80:96,:], X[96:112,:], X[112:,:]]\n",
    "y_subsets = [Y[:16,:], Y[16:32,:], Y[32:48,:], Y[48:64,:], Y[64:80,:], Y[80:96,:], Y[96:112,:], Y[112:,:]]"
   ]
  },
  {
   "cell_type": "code",
   "execution_count": 6,
   "metadata": {},
   "outputs": [
    {
     "name": "stdout",
     "output_type": "stream",
     "text": [
      "Error Rate for fold 0: 0.375\n",
      "\n",
      "Error Rate for fold 1: 0.4375\n",
      "\n",
      "Error Rate for fold 2: 0.5625\n",
      "\n",
      "Error Rate for fold 3: 0.5625\n",
      "\n",
      "Error Rate for fold 4: 0.4375\n",
      "\n",
      "Error Rate for fold 5: 0.5\n",
      "\n",
      "Error Rate for fold 6: 0.5\n",
      "\n",
      "Error Rate for fold 7: 0.3125\n",
      "\n",
      "Total average test set error rate: 0.4609375\n"
     ]
    }
   ],
   "source": [
    "alpha = 0.05 #step size\n",
    "L = 100 #number of epochs = you cycle through all the training data one time, in random order\n",
    "\n",
    "error_rates = []\n",
    "\n",
    "for fold in range(8):\n",
    "    X = X_subsets.copy()\n",
    "    y = y_subsets.copy()\n",
    "    X_test = X.pop(fold)\n",
    "    y_test = y.pop(fold) # use the remaining hold-out set to evaluate the classifier performance\n",
    "    n, p = np.shape(X[0])\n",
    "    p -= 1\n",
    "    q = np.shape(Y)[1] #number of classification problems\n",
    "    \n",
    "    M = 32 #number of hidden nodes\n",
    "    V = np.random.randn(M+1, q); # 33 x 1\n",
    "    W = np.random.randn(p+1, M); # 11 x 32 ==> 10 x 32\n",
    "    \n",
    "    #print(\"V shape:\",V.shape)\n",
    "    #print(\"W shape:\",W.shape)\n",
    "    for j in range(7):\n",
    "        for epoch in range(L):\n",
    "            ind = np.random.permutation(n)\n",
    "            #print(\"V shape:\",V.shape)\n",
    "            #Xb = np.hstack((np.ones((n,1)), X[j]))# 16 x 10\n",
    "            Xb = X[j]\n",
    "            #print(\"Xb shape:\", Xb.shape) \n",
    "            #print(y)\n",
    "            Y = y[j]\n",
    "            #print(Y)\n",
    "            #print(np.squeeze(Y))\n",
    "            for i in ind:\n",
    "                # Forward-propagate\n",
    "                #print(\"Xb shape:\", Xb.shape)\n",
    "                #print(\"Xb[[i],:] shape:\",  Xb[[i],:].shape)\n",
    "                H = logsig(np.hstack((np.ones((1,1)), Xb[[i],:]@W)))\n",
    "                #print(\"H shape:\", H.shape)\n",
    "                #print(\"V shape:\", V.shape)\n",
    "                Yhat = logsig(H@V)\n",
    "                 # Backpropagate\n",
    "                #print(\"Yhat shape:\", Yhat.shape)\n",
    "                #print(\"Y_i shape:\", Y[[i],:].shape)\n",
    "                delta = (Yhat-Y[[i],:])*Yhat*(1-Yhat)\n",
    "                Vnew = V-alpha*H.T@delta\n",
    "                gamma = delta@V[1:,:].T*H[:,1:]*(1-H[:,1:])\n",
    "                Wnew = W - alpha*Xb[[i],:].T@gamma\n",
    "                V = Vnew\n",
    "                W = Wnew\n",
    "                #ind_yhat_dict[i] = int(Yhat > 0.5)\n",
    "        \n",
    "                \n",
    "    y_hat_result = []\n",
    "    ind_yhat_dict = dict()\n",
    "    for k in range(X_test.shape[0]):\n",
    "        H = logsig(np.hstack((np.ones((1,1)), X_test[[i],:]@W)))\n",
    "        Yhat = logsig(H@V)\n",
    "        delta = (Yhat-Y[[i],:])*Yhat*(1-Yhat)\n",
    "        Vnew = V-alpha*H.T@delta\n",
    "        gamma = delta@V[1:,:].T*H[:,1:]*(1-H[:,1:])\n",
    "        Wnew = W - alpha*Xb[[i],:].T@gamma\n",
    "        V = Vnew\n",
    "        W = Wnew\n",
    "        ind_yhat_dict[i] = int(Yhat > 0.5)\n",
    "        \n",
    "    ind_yhat_dict = dict(sorted(ind_yhat_dict.items()))\n",
    "    err_c1 =  np.sum(np.array(list(ind_yhat_dict.values())) == y_test)\n",
    "    error_rate = 1 - (err_c1 / np.shape(y_test)[0])\n",
    "    print(f\"Error Rate for fold {fold}:\", error_rate)\n",
    "    error_rates.append(error_rate)\n",
    "    print()\n",
    "    \n",
    "print(\"Total average test set error rate:\", sum(error_rates) / len(error_rates))"
   ]
  },
  {
   "cell_type": "markdown",
   "metadata": {},
   "source": [
    "### 2. Face Emotion Classification with Kernel Classifier\n",
    "\n",
    "In this problem you will apply a kernel classifier to the face emotion dataset. You may find it very helpful to use code from an activity.\n",
    "\n",
    "(a) Build a kernel classifier using\n",
    "\n",
    "- the squared error loss function\n",
    "- an $l_2$ regularizer with $\\lambda = 0.5$.\n",
    "- the Gaussian Kernel $K(u,v) = exp(-||u-v||^2 / (2\\sigma^2)$.\\\n",
    "\n",
    "(b) Train your classifier choosing for different values of $\\sigma$ and create a plot with $\\sigma$ on the hortizontal axis and accuracy on the vertical axis and comment on the plot. Does your classifier achieve 0% training error?"
   ]
  },
  {
   "cell_type": "code",
   "execution_count": null,
   "metadata": {},
   "outputs": [],
   "source": [
    "sigma = 5\n",
    "lam = 0.05\n",
    "\n",
    "distsq=np.zeros((n,n),dtype=float)\n",
    "\n",
    "for i in range(0,n):\n",
    "    for j in range(0,n):\n",
    "        d = np.linalg.norm(X[i,:]-X[j,:])\n",
    "        distsq[i,j]=d**2\n",
    "        \n",
    "K = np.exp(-distsq/(2*sigma**2))\n",
    "\n",
    "alpha = np.linalg.inv(K+lam*np.identity(n))@Y1"
   ]
  },
  {
   "cell_type": "markdown",
   "metadata": {},
   "source": [
    "(c) Find a more realistic estimate of the accuracy of your classifier by using 8-fold cross validation. Can you achieve perfect test accuracy?"
   ]
  },
  {
   "cell_type": "code",
   "execution_count": null,
   "metadata": {},
   "outputs": [],
   "source": []
  }
 ],
 "metadata": {
  "kernelspec": {
   "display_name": "Python 3",
   "language": "python",
   "name": "python3"
  },
  "language_info": {
   "codemirror_mode": {
    "name": "ipython",
    "version": 3
   },
   "file_extension": ".py",
   "mimetype": "text/x-python",
   "name": "python",
   "nbconvert_exporter": "python",
   "pygments_lexer": "ipython3",
   "version": "3.8.8"
  }
 },
 "nbformat": 4,
 "nbformat_minor": 2
}
