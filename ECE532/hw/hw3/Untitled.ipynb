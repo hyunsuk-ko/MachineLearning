{
 "cells": [
  {
   "cell_type": "code",
   "execution_count": 7,
   "id": "24d72733",
   "metadata": {},
   "outputs": [
    {
     "data": {
      "text/plain": [
       "Text(0.5, 0, 'B')"
      ]
     },
     "execution_count": 7,
     "metadata": {},
     "output_type": "execute_result"
    },
    {
     "data": {
      "image/png": "[encoded data removed]",
      "text/plain": [
       "<Figure size 432x288 with 1 Axes>"
      ]
     },
     "metadata": {
      "needs_background": "light"
     },
     "output_type": "display_data"
    }
   ],
   "source": [
    "import numpy as np\n",
    "from scipy.io import loadmat\n",
    "import matplotlib.pyplot as plt \n",
    "\n",
    "in_data = loadmat('polydata.mat')\n",
    "\n",
    "A = in_data['a']\n",
    "B = in_data['b']\n",
    "plt.scatter(A, B)\n",
    "plt.title(\"A scatter plot of polydata\")\n",
    "plt.xlabel(\"A\")\n",
    "plt.xlabel(\"B\")"
   ]
  },
  {
   "cell_type": "code",
   "execution_count": 10,
   "id": "27ee600f",
   "metadata": {},
   "outputs": [
    {
     "data": {
      "text/plain": [
       "array([[0.81472, 1.     ],\n",
       "       [0.90579, 1.     ],\n",
       "       [0.12699, 1.     ],\n",
       "       [0.91338, 1.     ],\n",
       "       [0.63236, 1.     ]])"
      ]
     },
     "execution_count": 10,
     "metadata": {},
     "output_type": "execute_result"
    }
   ],
   "source": [
    "d1 = np.hstack((A, np.ones((len(A),1))))\n",
    "d1[:5,]"
   ]
  },
  {
   "cell_type": "code",
   "execution_count": 11,
   "id": "ba27ab95",
   "metadata": {},
   "outputs": [
    {
     "data": {
      "text/plain": [
       "array([[0.66376868, 0.81472   , 1.        ],\n",
       "       [0.82045552, 0.90579   , 1.        ],\n",
       "       [0.01612646, 0.12699   , 1.        ],\n",
       "       [0.83426302, 0.91338   , 1.        ],\n",
       "       [0.39987917, 0.63236   , 1.        ]])"
      ]
     },
     "execution_count": 11,
     "metadata": {},
     "output_type": "execute_result"
    }
   ],
   "source": [
    "d2 = np.hstack((A**2, A, np.ones((len(A),1))))\n",
    "d2[:5,]"
   ]
  },
  {
   "cell_type": "code",
   "execution_count": 12,
   "id": "9d68306d",
   "metadata": {},
   "outputs": [
    {
     "data": {
      "text/plain": [
       "array([[0.54078562, 0.66376868, 0.81472   , 1.        ],\n",
       "       [0.74316041, 0.82045552, 0.90579   , 1.        ],\n",
       "       [0.0020479 , 0.01612646, 0.12699   , 1.        ],\n",
       "       [0.76199916, 0.83426302, 0.91338   , 1.        ],\n",
       "       [0.25286759, 0.39987917, 0.63236   , 1.        ]])"
      ]
     },
     "execution_count": 12,
     "metadata": {},
     "output_type": "execute_result"
    }
   ],
   "source": [
    "d3 = np.hstack((A**3 , A**2, A, np.ones((len(A),1))))\n",
    "d3[:5,]"
   ]
  },
  {
   "cell_type": "code",
   "execution_count": 15,
   "id": "5c700e1e",
   "metadata": {},
   "outputs": [],
   "source": [
    "w_opt_d1 = np.linalg.inv(d1.transpose()@d1)@d1.transpose()@B\n",
    "w_opt_d2 = np.linalg.inv(d2.transpose()@d2)@d2.transpose()@B\n",
    "w_opt_d3 = np.linalg.inv(d3.transpose()@d3)@d3.transpose()@B"
   ]
  },
  {
   "cell_type": "code",
   "execution_count": 19,
   "id": "59487727",
   "metadata": {},
   "outputs": [
    {
     "data": {
      "text/plain": [
       "array([[ 0.21420657],\n",
       "       [-0.11914375]])"
      ]
     },
     "execution_count": 19,
     "metadata": {},
     "output_type": "execute_result"
    }
   ],
   "source": [
    "w_opt_d1"
   ]
  },
  {
   "cell_type": "code",
   "execution_count": 17,
   "id": "854ce700",
   "metadata": {},
   "outputs": [
    {
     "data": {
      "text/plain": [
       "array([-0.11914375])"
      ]
     },
     "execution_count": 17,
     "metadata": {},
     "output_type": "execute_result"
    }
   ],
   "source": [
    "w_opt_d1[1]"
   ]
  },
  {
   "cell_type": "code",
   "execution_count": 18,
   "id": "f742b681",
   "metadata": {},
   "outputs": [
    {
     "data": {
      "text/plain": [
       "array([0.21420657])"
      ]
     },
     "execution_count": 18,
     "metadata": {},
     "output_type": "execute_result"
    }
   ],
   "source": [
    "w_opt_d1[0]"
   ]
  },
  {
   "cell_type": "code",
   "execution_count": 20,
   "id": "7b7e7e13",
   "metadata": {},
   "outputs": [
    {
     "data": {
      "text/plain": [
       "array([0.00000000e+00, 7.96260297e-07, 6.37008237e-06, ...,\n",
       "       7.96188636e+08, 7.96212522e+08, 7.96236409e+08])"
      ]
     },
     "execution_count": 20,
     "metadata": {},
     "output_type": "execute_result"
    }
   ],
   "source": [
    "x = np.arange(0, 1000, 0.01)\n",
    "\n",
    "y1 = float(w_opt_d1[1]) + float(w_opt_d1[0]) * x\n",
    "y2 = float(w_opt_d2[2]) + float(w_opt_d2[1]) * x + float(w_opt_d2[0]) * (x ** 2)\n",
    "y3 = float(w_opt_d3[3]) + float(w_opt_d3[2]) * x + float(w_opt_d3[1]) * (x ** 2)\n",
    "+ float(w_opt_d3[0]) * (x ** 3)"
   ]
  },
  {
   "cell_type": "code",
   "execution_count": 30,
   "id": "9e5bd63c",
   "metadata": {},
   "outputs": [
    {
     "data": {
      "text/plain": [
       "(-0.2, 0.2)"
      ]
     },
     "execution_count": 30,
     "metadata": {},
     "output_type": "execute_result"
    },
    {
     "data": {
      "image/png": "[encoded data removed]",
      "text/plain": [
       "<Figure size 432x288 with 1 Axes>"
      ]
     },
     "metadata": {
      "needs_background": "light"
     },
     "output_type": "display_data"
    }
   ],
   "source": [
    "fig, ax = plt.subplots()\n",
    "\n",
    "plt.scatter(A, B)\n",
    "plt.title(\"A scatter plot of polydata\")\n",
    "plt.xlabel(\"A\")\n",
    "plt.xlabel(\"B\")\n",
    "\n",
    "ax1 = ax.plot(x, y1)\n",
    "ax2 = ax.plot(x, y2)\n",
    "ax3 = ax.plot(x, y3)\n",
    "\n",
    "plt.xlim(0, 1)\n",
    "plt.ylim(-0.2, 0.2)"
   ]
  },
  {
   "cell_type": "code",
   "execution_count": null,
   "id": "8fd59856",
   "metadata": {},
   "outputs": [],
   "source": []
  }
 ],
 "metadata": {
  "kernelspec": {
   "display_name": "Python 3",
   "language": "python",
   "name": "python3"
  },
  "language_info": {
   "codemirror_mode": {
    "name": "ipython",
    "version": 3
   },
   "file_extension": ".py",
   "mimetype": "text/x-python",
   "name": "python",
   "nbconvert_exporter": "python",
   "pygments_lexer": "ipython3",
   "version": "3.8.8"
  }
 },
 "nbformat": 4,
 "nbformat_minor": 5
}
