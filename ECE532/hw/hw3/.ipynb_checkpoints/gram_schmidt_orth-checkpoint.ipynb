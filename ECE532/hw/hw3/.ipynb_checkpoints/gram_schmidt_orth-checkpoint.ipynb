{
 "cells": [
  {
   "cell_type": "code",
   "execution_count": 10,
   "metadata": {},
   "outputs": [
    {
     "name": "stdout",
     "output_type": "stream",
     "text": [
      "[[ 0.33333333  0.         -0.2981424 ]\n",
      " [ 0.66666667  0.         -0.59628479]\n",
      " [ 0.66666667  0.          0.74535599]]\n",
      "[[ 1.00000000e+00 -9.54791801e-15  0.00000000e+00  0.00000000e+00\n",
      "   0.00000000e+00]\n",
      " [-9.54791801e-15  1.00000000e+00  0.00000000e+00  0.00000000e+00\n",
      "   0.00000000e+00]\n",
      " [ 0.00000000e+00  0.00000000e+00  0.00000000e+00  0.00000000e+00\n",
      "   0.00000000e+00]\n",
      " [ 0.00000000e+00  0.00000000e+00  0.00000000e+00  0.00000000e+00\n",
      "   0.00000000e+00]\n",
      " [ 0.00000000e+00  0.00000000e+00  0.00000000e+00  0.00000000e+00\n",
      "   0.00000000e+00]]\n"
     ]
    }
   ],
   "source": [
    "import numpy as np\n",
    "from scipy.io import loadmat\n",
    "import matplotlib.pyplot as plt \n",
    "import math\n",
    "\n",
    "def gram_schmidt(B):\n",
    "    \"\"\"Orthogonalize a set of vectors stored as the columns of matrix B.\"\"\"\n",
    "    # Get the number of vectors.\n",
    "    m, n = B.shape\n",
    "    # Create new matrix to hold the orthonormal basis\n",
    "    U = np.zeros([m,n]) \n",
    "    for j in range(n):\n",
    "        # To orthogonalize the vector in column j with respect to the\n",
    "        # previous vectors, subtract from it its projection onto\n",
    "        # each of the previous vectors.\n",
    "        v = B[:,j].copy()\n",
    "        for k in range(j):\n",
    "            v -= np.dot(U[:, k], B[:, j]) * U[:, k]\n",
    "        if np.linalg.norm(v)>1e-10:\n",
    "            U[:, j] = v / np.linalg.norm(v)\n",
    "    return U\n",
    "\n",
    "if __name__ == '__main__':\n",
    "    B1 = np.array([[1.0, 1.0, 0.0], [2.0, 2.0, 0.0], [2.0, 2.0, 1.0]])\n",
    "    A1 = gram_schmidt(B1)\n",
    "    print(A1)\n",
    "    A2 = gram_schmidt(np.random.rand(4,2)@np.random.rand(2,5))\n",
    "    print(A2.transpose()@A2)"
   ]
  },
  {
   "cell_type": "code",
   "execution_count": 18,
   "metadata": {},
   "outputs": [
    {
     "data": {
      "text/plain": [
       "array([[ 4,  7,  2,  8,  7,  4,  2],\n",
       "       [ 9,  3,  5,  6, 10,  5,  5],\n",
       "       [ 4,  8,  3,  7,  6,  4,  1],\n",
       "       [ 9,  2,  6,  5,  9,  5,  4],\n",
       "       [ 4,  9,  2,  8,  7,  4,  1]], dtype=uint8)"
      ]
     },
     "execution_count": 18,
     "metadata": {},
     "output_type": "execute_result"
    }
   ],
   "source": [
    "in_data = loadmat('movie.mat')\n",
    "X = in_data['X']\n",
    "X[:5,]"
   ]
  },
  {
   "cell_type": "markdown",
   "metadata": {},
   "source": [
    "(a) Is the first basis vector you obtain equal to t1?"
   ]
  },
  {
   "cell_type": "code",
   "execution_count": 6,
   "metadata": {},
   "outputs": [
    {
     "data": {
      "text/plain": [
       "array([[ 1.,  4.,  7.,  2.,  8.,  7.,  4.,  2.],\n",
       "       [ 1.,  9.,  3.,  5.,  6., 10.,  5.,  5.],\n",
       "       [ 1.,  4.,  8.,  3.,  7.,  6.,  4.,  1.],\n",
       "       [ 1.,  9.,  2.,  6.,  5.,  9.,  5.,  4.],\n",
       "       [ 1.,  4.,  9.,  2.,  8.,  7.,  4.,  1.]])"
      ]
     },
     "execution_count": 6,
     "metadata": {},
     "output_type": "execute_result"
    }
   ],
   "source": [
    "X_a = np.hstack((np.ones((len(X), 1)), X))\n",
    "X_a[:5,]"
   ]
  },
  {
   "cell_type": "code",
   "execution_count": 17,
   "metadata": {},
   "outputs": [
    {
     "data": {
      "text/plain": [
       "array([ True,  True,  True,  True,  True])"
      ]
     },
     "execution_count": 17,
     "metadata": {},
     "output_type": "execute_result"
    }
   ],
   "source": [
    "gs = gram_schmidt(X_a)\n",
    "gs[:,0] ==  1 / math.sqrt(5)"
   ]
  },
  {
   "cell_type": "markdown",
   "metadata": {},
   "source": [
    "Yes, they are same."
   ]
  },
  {
   "cell_type": "markdown",
   "metadata": {},
   "source": [
    "(b) Find W so that X ~ t1W. Also compute the residual eror X - t1W"
   ]
  },
  {
   "cell_type": "code",
   "execution_count": 20,
   "metadata": {},
   "outputs": [
    {
     "data": {
      "text/plain": [
       "array([[0.4472136],\n",
       "       [0.4472136],\n",
       "       [0.4472136],\n",
       "       [0.4472136],\n",
       "       [0.4472136]])"
      ]
     },
     "execution_count": 20,
     "metadata": {},
     "output_type": "execute_result"
    }
   ],
   "source": [
    "t1 = gs[:,0].reshape(5,1)\n",
    "t1"
   ]
  },
  {
   "cell_type": "code",
   "execution_count": 21,
   "metadata": {},
   "outputs": [
    {
     "data": {
      "text/plain": [
       "array([[13.41640786, 12.96919427,  8.04984472, 15.20526225, 17.44133022,\n",
       "         9.8386991 ,  5.81377674]])"
      ]
     },
     "execution_count": 21,
     "metadata": {},
     "output_type": "execute_result"
    }
   ],
   "source": [
    "w = np.transpose(t1) @ X\n",
    "w"
   ]
  },
  {
   "cell_type": "code",
   "execution_count": 22,
   "metadata": {},
   "outputs": [
    {
     "data": {
      "text/plain": [
       "array([[6. , 5.8, 3.6, 6.8, 7.8, 4.4, 2.6],\n",
       "       [6. , 5.8, 3.6, 6.8, 7.8, 4.4, 2.6],\n",
       "       [6. , 5.8, 3.6, 6.8, 7.8, 4.4, 2.6],\n",
       "       [6. , 5.8, 3.6, 6.8, 7.8, 4.4, 2.6],\n",
       "       [6. , 5.8, 3.6, 6.8, 7.8, 4.4, 2.6]])"
      ]
     },
     "execution_count": 22,
     "metadata": {},
     "output_type": "execute_result"
    }
   ],
   "source": [
    "baseline_rating = t1 @ w\n",
    "baseline_rating"
   ]
  },
  {
   "cell_type": "code",
   "execution_count": 23,
   "metadata": {},
   "outputs": [
    {
     "data": {
      "text/plain": [
       "array([[-2. ,  1.2, -1.6,  1.2, -0.8, -0.4, -0.6],\n",
       "       [ 3. , -2.8,  1.4, -0.8,  2.2,  0.6,  2.4],\n",
       "       [-2. ,  2.2, -0.6,  0.2, -1.8, -0.4, -1.6],\n",
       "       [ 3. , -3.8,  2.4, -1.8,  1.2,  0.6,  1.4],\n",
       "       [-2. ,  3.2, -1.6,  1.2, -0.8, -0.4, -1.6]])"
      ]
     },
     "execution_count": 23,
     "metadata": {},
     "output_type": "execute_result"
    }
   ],
   "source": [
    "residual = X - baseline_rating\n",
    "residual"
   ]
  },
  {
   "cell_type": "markdown",
   "metadata": {},
   "source": [
    "(c) Find a rank-2 approximation using T = [t1 t2]. Compute residual error X - TW."
   ]
  },
  {
   "cell_type": "code",
   "execution_count": 25,
   "metadata": {},
   "outputs": [
    {
     "data": {
      "text/plain": [
       "array([[-0.36514837],\n",
       "       [ 0.54772256],\n",
       "       [-0.36514837],\n",
       "       [ 0.54772256],\n",
       "       [-0.36514837]])"
      ]
     },
     "execution_count": 25,
     "metadata": {},
     "output_type": "execute_result"
    }
   ],
   "source": [
    "t2 = gs[:,1].reshape(5,1)\n",
    "t2"
   ]
  },
  {
   "cell_type": "code",
   "execution_count": 26,
   "metadata": {},
   "outputs": [
    {
     "data": {
      "text/plain": [
       "array([[ 0.4472136 , -0.36514837],\n",
       "       [ 0.4472136 ,  0.54772256],\n",
       "       [ 0.4472136 , -0.36514837],\n",
       "       [ 0.4472136 ,  0.54772256],\n",
       "       [ 0.4472136 , -0.36514837]])"
      ]
     },
     "execution_count": 26,
     "metadata": {},
     "output_type": "execute_result"
    }
   ],
   "source": [
    "T = np.hstack((t1, t2))\n",
    "T"
   ]
  },
  {
   "cell_type": "code",
   "execution_count": 28,
   "metadata": {},
   "outputs": [
    {
     "data": {
      "text/plain": [
       "array([[13.41640786, 12.96919427,  8.04984472, 15.20526225, 17.44133022,\n",
       "         9.8386991 ,  5.81377674],\n",
       "       [ 5.47722558, -6.02494813,  3.46890953, -2.37346442,  3.10376116,\n",
       "         1.09544512,  3.46890953]])"
      ]
     },
     "execution_count": 28,
     "metadata": {},
     "output_type": "execute_result"
    }
   ],
   "source": [
    "w2 = np.transpose(T) @ X\n",
    "w2"
   ]
  },
  {
   "cell_type": "code",
   "execution_count": 29,
   "metadata": {},
   "outputs": [],
   "source": [
    "TW = T @ w2"
   ]
  },
  {
   "cell_type": "code",
   "execution_count": 30,
   "metadata": {},
   "outputs": [
    {
     "data": {
      "text/plain": [
       "array([[ 1.77635684e-15, -1.00000000e+00, -3.33333333e-01,\n",
       "         3.33333333e-01,  3.33333333e-01,  1.77635684e-15,\n",
       "         6.66666667e-01],\n",
       "       [-3.55271368e-15,  5.00000000e-01, -5.00000000e-01,\n",
       "         5.00000000e-01,  5.00000000e-01, -1.77635684e-15,\n",
       "         5.00000000e-01],\n",
       "       [ 1.77635684e-15,  2.66453526e-15,  6.66666667e-01,\n",
       "        -6.66666667e-01, -6.66666667e-01,  1.77635684e-15,\n",
       "        -3.33333333e-01],\n",
       "       [-3.55271368e-15, -5.00000000e-01,  5.00000000e-01,\n",
       "        -5.00000000e-01, -5.00000000e-01, -1.77635684e-15,\n",
       "        -5.00000000e-01],\n",
       "       [ 1.77635684e-15,  1.00000000e+00, -3.33333333e-01,\n",
       "         3.33333333e-01,  3.33333333e-01,  1.77635684e-15,\n",
       "        -3.33333333e-01]])"
      ]
     },
     "execution_count": 30,
     "metadata": {},
     "output_type": "execute_result"
    }
   ],
   "source": [
    "residual = X - TW\n",
    "residual"
   ]
  },
  {
   "cell_type": "markdown",
   "metadata": {},
   "source": [
    "No stark difference between sci-fi and romance."
   ]
  },
  {
   "cell_type": "markdown",
   "metadata": {},
   "source": [
    "(d) Rank-3 approxiamtion using T = [t1 t2 t3]. Compute reisudal error."
   ]
  },
  {
   "cell_type": "code",
   "execution_count": 32,
   "metadata": {},
   "outputs": [
    {
     "data": {
      "text/plain": [
       "array([[-6.32455532e-01],\n",
       "       [ 3.16227766e-01],\n",
       "       [ 1.96606674e-15],\n",
       "       [-3.16227766e-01],\n",
       "       [ 6.32455532e-01]])"
      ]
     },
     "execution_count": 32,
     "metadata": {},
     "output_type": "execute_result"
    }
   ],
   "source": [
    "t3 = gs[:,2].reshape(5,1)\n",
    "t3"
   ]
  },
  {
   "cell_type": "code",
   "execution_count": 33,
   "metadata": {},
   "outputs": [
    {
     "data": {
      "text/plain": [
       "array([[ 4.47213595e-01, -3.65148372e-01, -6.32455532e-01],\n",
       "       [ 4.47213595e-01,  5.47722558e-01,  3.16227766e-01],\n",
       "       [ 4.47213595e-01, -3.65148372e-01,  1.96606674e-15],\n",
       "       [ 4.47213595e-01,  5.47722558e-01, -3.16227766e-01],\n",
       "       [ 4.47213595e-01, -3.65148372e-01,  6.32455532e-01]])"
      ]
     },
     "execution_count": 33,
     "metadata": {},
     "output_type": "execute_result"
    }
   ],
   "source": [
    "T3 = np.hstack((t1, t2, t3))\n",
    "T3"
   ]
  },
  {
   "cell_type": "code",
   "execution_count": 35,
   "metadata": {},
   "outputs": [
    {
     "data": {
      "text/plain": [
       "array([[ 1.34164079e+01,  1.29691943e+01,  8.04984472e+00,\n",
       "         1.52052622e+01,  1.74413302e+01,  9.83869910e+00,\n",
       "         5.81377674e+00],\n",
       "       [ 5.47722558e+00, -6.02494813e+00,  3.46890953e+00,\n",
       "        -2.37346442e+00,  3.10376116e+00,  1.09544512e+00,\n",
       "         3.46890953e+00],\n",
       "       [ 7.99360578e-15,  1.58113883e+00, -3.16227766e-01,\n",
       "         3.16227766e-01,  3.16227766e-01,  1.50990331e-14,\n",
       "        -3.16227766e-01]])"
      ]
     },
     "execution_count": 35,
     "metadata": {},
     "output_type": "execute_result"
    }
   ],
   "source": [
    "w3 = np.transpose(T3) @ X\n",
    "w3"
   ]
  },
  {
   "cell_type": "code",
   "execution_count": 36,
   "metadata": {},
   "outputs": [
    {
     "data": {
      "text/plain": [
       "array([[4.        , 7.        , 2.53333333, 7.46666667, 6.46666667,\n",
       "        4.        , 1.53333333],\n",
       "       [9.        , 3.        , 5.4       , 5.6       , 9.6       ,\n",
       "        5.        , 4.4       ],\n",
       "       [4.        , 8.        , 2.33333333, 7.66666667, 6.66666667,\n",
       "        4.        , 1.33333333],\n",
       "       [9.        , 2.        , 5.6       , 5.4       , 9.4       ,\n",
       "        5.        , 4.6       ],\n",
       "       [4.        , 9.        , 2.13333333, 7.86666667, 6.86666667,\n",
       "        4.        , 1.13333333]])"
      ]
     },
     "execution_count": 36,
     "metadata": {},
     "output_type": "execute_result"
    }
   ],
   "source": [
    "TW3 = T3 @ w3\n",
    "TW3"
   ]
  },
  {
   "cell_type": "code",
   "execution_count": 37,
   "metadata": {},
   "outputs": [
    {
     "data": {
      "text/plain": [
       "array([[ 6.66133815e-15,  2.75335310e-14, -5.33333333e-01,\n",
       "         5.33333333e-01,  5.33333333e-01,  1.15463195e-14,\n",
       "         4.66666667e-01],\n",
       "       [-5.32907052e-15, -1.37667655e-14, -4.00000000e-01,\n",
       "         4.00000000e-01,  4.00000000e-01, -6.21724894e-15,\n",
       "         6.00000000e-01],\n",
       "       [ 1.77635684e-15,  0.00000000e+00,  6.66666667e-01,\n",
       "        -6.66666667e-01, -6.66666667e-01,  1.77635684e-15,\n",
       "        -3.33333333e-01],\n",
       "       [-1.77635684e-15,  1.31006317e-14,  4.00000000e-01,\n",
       "        -4.00000000e-01, -4.00000000e-01,  2.66453526e-15,\n",
       "        -6.00000000e-01],\n",
       "       [-3.55271368e-15, -2.66453526e-14, -1.33333333e-01,\n",
       "         1.33333333e-01,  1.33333333e-01, -7.99360578e-15,\n",
       "        -1.33333333e-01]])"
      ]
     },
     "execution_count": 37,
     "metadata": {},
     "output_type": "execute_result"
    }
   ],
   "source": [
    "residual = X - TW3\n",
    "residual"
   ]
  },
  {
   "cell_type": "code",
   "execution_count": null,
   "metadata": {},
   "outputs": [],
   "source": []
  }
 ],
 "metadata": {
  "kernelspec": {
   "display_name": "Python 3",
   "language": "python",
   "name": "python3"
  },
  "language_info": {
   "codemirror_mode": {
    "name": "ipython",
    "version": 3
   },
   "file_extension": ".py",
   "mimetype": "text/x-python",
   "name": "python",
   "nbconvert_exporter": "python",
   "pygments_lexer": "ipython3",
   "version": "3.8.8"
  }
 },
 "nbformat": 4,
 "nbformat_minor": 2
}
