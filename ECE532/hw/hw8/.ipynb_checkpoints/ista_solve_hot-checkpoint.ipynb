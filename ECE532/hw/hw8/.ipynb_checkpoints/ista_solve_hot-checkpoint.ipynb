{
 "cells": [
  {
   "cell_type": "markdown",
   "metadata": {},
   "source": [
    "## 1.  Data Fitting vs. Sparsity Tradeoff. \n",
    "\n",
    "This assignment uses the dataset BreastCancer.mat to explore sparse regularization of a least squares problem. The journal article “A gene-expression signature as a predictor of survival in breast cancer” provides background on the role of genes in breast cancer. The goal is to solve the Lasso problem $w∗= argmin_{w∈R^n} ‖Aw−d‖_2^2+λ‖w‖_1$ Here $w$ is the weight vector applied to the expression levels of 8141 genes and there are 295 patients (feature sets and labels).  In this problem we will vary $λ$ to explore the tradeoff between data-fitting and sparsity. Scripts  that  implement  iterative  soft  thresholding  via  proximal  gradient  descent  to solve  the  LASSO  problem  are  available.   The  scripts  use  a  hot  start  procedure  for finding the solution with different values for $λ$.  The initial guess for the next value of $λ$ is the converged solution for the preceding value.  This accelerates convergence when subsequent values of $λ$ lead to similar solutions.\n",
    "\n",
    "a)  Write code to find the optimal weights using only the first 100 patients (first 100 rows).  Create a plot with the residual $‖Aw^* −d‖_2$ on the vertical-axis and $‖w^*‖_1$ on the horizontal-axis, parameterized by $λ$.  In other words, create the curve by finding $w^∗$ for different $λ$, and plotting $‖w^∗‖_1$ vs. $‖Aw^* −d‖_2$.  Experiment with $λ$ to find a range that captures the variation from the least-squares solution (small $λ$) to the all zeros solution (large $λ$).  Appropriate values of $λ$ may range from $10^−6$ to 20, spaced logarithmically.  Explain the result."
   ]
  },
  {
   "cell_type": "code",
   "execution_count": 1,
   "metadata": {},
   "outputs": [],
   "source": [
    "def ista_solve_hot( A, d, la_array ):\n",
    "    # ista_solve_hot: Iterative soft-thresholding for multiple values of\n",
    "    # lambda with hot start for each case - the converged value for the previous\n",
    "    # value of lambda is used as an initial condition for the current lambda.\n",
    "    # this function solves the minimization problem\n",
    "    # Minimize |Ax-d|_2^2 + lambda*|x|_1 (Lasso regression)\n",
    "    # using iterative soft-thresholding.\n",
    "    max_iter = 10**4\n",
    "    tol = 10**(-3)\n",
    "    tau = 1/np.linalg.norm(A,2)**2\n",
    "    n = A.shape[1]\n",
    "    w = np.zeros((n,1))\n",
    "    num_lam = len(la_array)\n",
    "    X = np.zeros((n, num_lam))\n",
    "    for i, each_lambda in enumerate(la_array):\n",
    "        for j in range(max_iter):\n",
    "            z = w - tau*(A.T@(A@w-d))\n",
    "            w_old = w\n",
    "            w = np.sign(z) * np.clip(np.abs(z)-tau*each_lambda/2, 0, np.inf)\n",
    "            X[:, i:i+1] = w\n",
    "            if np.linalg.norm(w - w_old) < tol:\n",
    "                break\n",
    "    return X"
   ]
  },
  {
   "cell_type": "code",
   "execution_count": 2,
   "metadata": {},
   "outputs": [],
   "source": [
    "from scipy.io import loadmat\n",
    "import numpy as np\n",
    "X = loadmat(\"BreastCancer.mat\")['X']\n",
    "y = loadmat(\"BreastCancer.mat\")['y']"
   ]
  },
  {
   "cell_type": "code",
   "execution_count": 7,
   "metadata": {},
   "outputs": [],
   "source": [
    "lam_vals = np.logspace(np.log10(1e-6), np.log10(20), 100, endpoint= True)\n",
    "# Use training data to learn classifier\n",
    "X_100 = X[:100,:]\n",
    "y_100 = y[:100]\n",
    "W = ista_solve_hot(X_100,y_100,lam_vals)\n",
    "\n",
    "# Find best lambda value using first validation set, then evaluate\n",
    "# performance on second validation set, and accumulate performance metrics\n",
    "# over all cases partitions\n",
    "one_norm = []\n",
    "two_norm_sq = []\n",
    "for i in range(len(lam_vals)):\n",
    "    w = W[:,i]\n",
    "    w_1 = np.sum(np.sign(w))\n",
    "    sqe_2 = np.linalg.norm(X @ w - y,2)\n",
    "    one_norm.append(w_1)\n",
    "    two_norm_sq.append(sqe_2)"
   ]
  },
  {
   "cell_type": "code",
   "execution_count": 53,
   "metadata": {},
   "outputs": [
    {
     "name": "stdout",
     "output_type": "stream",
     "text": [
      "2.72700296717521 43\n"
     ]
    }
   ],
   "source": [
    "num = 100\n",
    "lam_vals = np.logspace(np.log10(1e-6), np.log10(20), num, endpoint= True)\n",
    "\n",
    "# Use training data to learn classifier\n",
    "X_partial = X[:num,:]\n",
    "y_partial = y[:num]\n",
    "W = ista_solve_hot(X_partial,y_partial,lam_vals)\n",
    "\n",
    "# Find best lambda value using first validation set, then evaluate\n",
    "# performance on second validation set, and accumulate performance metrics\n",
    "# over all cases partitions\n",
    "one_norm = []\n",
    "two_norm_sq = []\n",
    "optimal_lam = 1000\n",
    "final_idx = 0\n",
    "for i in range(len(lam_vals)):\n",
    "    w = W[:,i]\n",
    "    w_1 = np.sum(np.sign(w))\n",
    "    sqe_2 = np.linalg.norm(X_partial @ w - y_partial, 2)\n",
    "    one_norm.append(w_1)\n",
    "    two_norm_sq.append(sqe_2)\n",
    "    if optimal_lam > w_1 + sqe_2:\n",
    "        optimal_lam = w_1 + sqe_2\n",
    "        final_idx = i\n",
    "        \n",
    "print(optimal_lam, final_idx)"
   ]
  },
  {
   "cell_type": "code",
   "execution_count": 131,
   "metadata": {},
   "outputs": [
    {
     "data": {
      "text/plain": [
       "0.001483045387739222"
      ]
     },
     "execution_count": 131,
     "metadata": {},
     "output_type": "execute_result"
    }
   ],
   "source": [
    "lam_vals[43]"
   ]
  },
  {
   "cell_type": "code",
   "execution_count": 129,
   "metadata": {},
   "outputs": [
    {
     "name": "stdout",
     "output_type": "stream",
     "text": [
      "43\n"
     ]
    }
   ],
   "source": [
    "max_value = min(one_norm)\n",
    "\n",
    "\n",
    "max_index = one_norm.index(max_value)\n",
    "\n",
    "print(max_index)"
   ]
  },
  {
   "cell_type": "code",
   "execution_count": 130,
   "metadata": {},
   "outputs": [
    {
     "name": "stdout",
     "output_type": "stream",
     "text": [
      "-85.0 87.72700296717521\n"
     ]
    }
   ],
   "source": [
    "x = 43\n",
    "print(one_norm[x], two_norm_sq[x])"
   ]
  },
  {
   "cell_type": "code",
   "execution_count": 133,
   "metadata": {},
   "outputs": [
    {
     "data": {
      "image/png": "[encoded data removed]",
      "text/plain": [
       "<Figure size 432x288 with 1 Axes>"
      ]
     },
     "metadata": {
      "needs_background": "light"
     },
     "output_type": "display_data"
    }
   ],
   "source": [
    "#https://jakevdp.github.io/PythonDataScienceHandbook/04.09-text-and-annotation.html\n",
    "import matplotlib.pyplot as plt \n",
    "#fig, ax = plt.subplots(figsize=(12, 6))\n",
    "\n",
    "plt.scatter(one_norm, two_norm_sq) \n",
    "plt.title('1-norm vs 2-norm-squared across λ')\n",
    "plt.xlim(-100, 170)\n",
    "plt.xlabel(\"1-norm\")\n",
    "plt.ylabel(\"2-norm squared error\")\n",
    "plt.plot(one_norm, two_norm_sq)\n",
    "plt.annotate('λ = 10 ^-6', xy=(one_norm[0], two_norm_sq[0]), xytext=(-75, 88.25),\n",
    "             arrowprops=dict(arrowstyle=\"->\",facecolor='red'))\n",
    "plt.annotate('λ = 0.17', xy=(one_norm[70], two_norm_sq[70]), xytext=(one_norm[70]+0.5, two_norm_sq[70]+0.5),\n",
    "           arrowprops=dict(arrowstyle=\"->\",facecolor='red'))\n",
    "plt.annotate('λ = 20', xy=(one_norm[99], two_norm_sq[99]), xytext=(50, 89.88),\n",
    "            arrowprops=dict(arrowstyle=\"->\",facecolor='red'))\n",
    "plt.annotate('λ = 7.22', xy=(one_norm[84], two_norm_sq[84]), xytext=(100, 88.5),\n",
    "            arrowprops=dict(arrowstyle=\"->\",facecolor='red'))\n",
    "plt.annotate('λ = 0.014', xy=(one_norm[43], two_norm_sq[43]), xytext=(-90, 87.4),\n",
    "            arrowprops=dict(arrowstyle=\"->\",facecolor='red'))\n",
    "plt.ylim(87.25,90)\n",
    "plt.show()"
   ]
  },
  {
   "cell_type": "markdown",
   "metadata": {},
   "source": [
    "b)  Next use your solutions from part a) to plot the error rate on the vertical-axis versus the sparsity on the horizontal-axis as $λ$ varies.  Define the error rate as the number of incorrect predictions divided by the total number of predictions and the sparsity as the number of nonzero entries in $w^∗$.  For this purpose, we’ll say an entry $w_i$ is nonzero if $|w_i|>10−6$.  Calculate the error rate using the training data,the data used to find the optimal weights.  Explain the result."
   ]
  },
  {
   "cell_type": "code",
   "execution_count": 82,
   "metadata": {},
   "outputs": [],
   "source": [
    "error_rates = []\n",
    "sparsities = []\n",
    "for i in range(len(lam_vals)):\n",
    "    w_opt = W[:,i]\n",
    "    y_hat = np.sign(X_partial @ w_opt).reshape(-1,1)\n",
    "    #print(y_hat)\n",
    "\n",
    "    error_vec = [0 if i[0]==i[1] else 1 for i in np.hstack((y_hat, y_partial))]\n",
    "    error_rates.append(100 * sum(error_vec) / len(y_hat))\n",
    " \n",
    "    w_opt[abs(w_opt) <= 10**-6] = 0\n",
    "    sparsity = np.count_nonzero(w_opt, axis=None)\n",
    "    sparsities.append(sparsity)"
   ]
  },
  {
   "cell_type": "code",
   "execution_count": 83,
   "metadata": {},
   "outputs": [
    {
     "data": {
      "text/plain": [
       "Text(0.5, 1.0, 'Sparsity vs Error rate across λ')"
      ]
     },
     "execution_count": 83,
     "metadata": {},
     "output_type": "execute_result"
    },
    {
     "data": {
      "image/png": "[encoded data removed]",
      "text/plain": [
       "<Figure size 432x288 with 1 Axes>"
      ]
     },
     "metadata": {
      "needs_background": "light"
     },
     "output_type": "display_data"
    }
   ],
   "source": [
    "plt.scatter(error_rates, sparsities)\n",
    "plt.title(\"Sparsity vs Error rate across λ\")"
   ]
  },
  {
   "cell_type": "markdown",
   "metadata": {},
   "source": [
    "c)  Repeat parts a) and b)to display the residual and error rate, respectively using validation or test data,  rows  101-295  of  the  data  matrix,  that  is,  the  data  not used to design the optimal classifier.  Again, explain what you see in each plot."
   ]
  },
  {
   "cell_type": "code",
   "execution_count": 60,
   "metadata": {},
   "outputs": [
    {
     "name": "stderr",
     "output_type": "stream",
     "text": [
      "<ipython-input-60-370bf1f244fb>:2: FutureWarning: Using a non-tuple sequence for multidimensional indexing is deprecated; use `arr[tuple(seq)]` instead of `arr[seq]`. In the future this will be interpreted as an array index, `arr[np.array(seq)]`, which will result either in an error or a different result.\n",
      "  w_opt[[abs(w_opt) <= 10^-6]] = 0\n"
     ]
    },
    {
     "data": {
      "text/plain": [
       "array([ 0.00598828, -0.01282642, -0.00190487, ..., -0.00299179,\n",
       "       -0.00995832, -0.00111583])"
      ]
     },
     "execution_count": 60,
     "metadata": {},
     "output_type": "execute_result"
    }
   ],
   "source": [
    "w_opt = W[:,0]\n",
    "w_opt[[abs(w_opt) <= 10^-6]] = 0\n",
    "w_opt\n",
    "#y_hat = np.sign(X_partial @ w_opt)\n",
    "#y_hat"
   ]
  },
  {
   "cell_type": "code",
   "execution_count": 65,
   "metadata": {},
   "outputs": [
    {
     "data": {
      "text/plain": [
       "array([[-1.e-07],\n",
       "       [ 1.e-06],\n",
       "       [ 1.e+00],\n",
       "       [ 2.e+00]])"
      ]
     },
     "execution_count": 65,
     "metadata": {},
     "output_type": "execute_result"
    }
   ],
   "source": [
    "a = np.array([[-10**-7], [10**-6], [1],[2]])\n",
    "a"
   ]
  },
  {
   "cell_type": "code",
   "execution_count": 66,
   "metadata": {},
   "outputs": [
    {
     "data": {
      "text/plain": [
       "array([[1.e-07],\n",
       "       [1.e-06],\n",
       "       [1.e+00],\n",
       "       [2.e+00]])"
      ]
     },
     "execution_count": 66,
     "metadata": {},
     "output_type": "execute_result"
    }
   ],
   "source": [
    "abs(a)"
   ]
  },
  {
   "cell_type": "code",
   "execution_count": 68,
   "metadata": {},
   "outputs": [
    {
     "name": "stderr",
     "output_type": "stream",
     "text": [
      "<ipython-input-68-df63a991718b>:1: FutureWarning: Using a non-tuple sequence for multidimensional indexing is deprecated; use `arr[tuple(seq)]` instead of `arr[seq]`. In the future this will be interpreted as an array index, `arr[np.array(seq)]`, which will result either in an error or a different result.\n",
      "  a[[abs(a) <= 10^-6 ]]\n"
     ]
    },
    {
     "data": {
      "text/plain": [
       "array([], dtype=float64)"
      ]
     },
     "execution_count": 68,
     "metadata": {},
     "output_type": "execute_result"
    }
   ],
   "source": [
    "a[[abs(a) <= 10^-6 ]]"
   ]
  },
  {
   "cell_type": "code",
   "execution_count": 74,
   "metadata": {},
   "outputs": [
    {
     "data": {
      "text/plain": [
       "array([[0.],\n",
       "       [0.],\n",
       "       [1.],\n",
       "       [2.]])"
      ]
     },
     "execution_count": 74,
     "metadata": {},
     "output_type": "execute_result"
    }
   ],
   "source": [
    "a = np.array([[-10**-10], [10**-6], [1],[2]])\n",
    "a[abs(a) <= 10**-6] = 0\n",
    "a"
   ]
  },
  {
   "cell_type": "code",
   "execution_count": null,
   "metadata": {},
   "outputs": [],
   "source": []
  }
 ],
 "metadata": {
  "kernelspec": {
   "display_name": "Python 3",
   "language": "python",
   "name": "python3"
  },
  "language_info": {
   "codemirror_mode": {
    "name": "ipython",
    "version": 3
   },
   "file_extension": ".py",
   "mimetype": "text/x-python",
   "name": "python",
   "nbconvert_exporter": "python",
   "pygments_lexer": "ipython3",
   "version": "3.8.8"
  }
 },
 "nbformat": 4,
 "nbformat_minor": 2
}
