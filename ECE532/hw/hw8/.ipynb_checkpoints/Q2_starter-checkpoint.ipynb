{
 "cells": [
  {
   "cell_type": "markdown",
   "metadata": {},
   "source": [
    "## 1.  Data Fitting vs. Sparsity Tradeoff. \n",
    "\n",
    "This assignment uses the dataset BreastCancer.mat to explore sparse regularization of a least squares problem. The journal article “A gene-expression signature as a predictor of survival in breast cancer” provides background on the role of genes in breast cancer. The goal is to solve the Lasso problem $w∗= argmin_{w∈R^n} ‖Aw−d‖_2^2+λ‖w‖_1$ Here $w$ is the weight vector applied to the expression levels of 8141 genes and there are 295 patients (feature sets and labels).  In this problem we will vary $λ$ to explore the tradeoff between data-fitting and sparsity. Scripts  that  implement  iterative  soft  thresholding  via  proximal  gradient  descent  to solve  the  LASSO  problem  are  available.   The  scripts  use  a  hot  start  procedure  for finding the solution with different values for $λ$.  The initial guess for the next value of $λ$ is the converged solution for the preceding value.  This accelerates convergence when subsequent values of $λ$ lead to similar solutions.\n",
    "\n",
    "a)  Write code to find the optimal weights using only the first 100 patients (first 100 rows).  Create a plot with the residual $‖Aw^* −d‖_2$ on the vertical-axis and $‖w^*‖_1$ on the horizontal-axis, parameterized by $λ$.  In other words, create the curve by finding $w^∗$ for different $λ$, and plotting $‖w^∗‖_1$ vs. $‖Aw^* −d‖_2$.  Experiment with $λ$ to find a range that captures the variation from the least-squares solution (small $λ$) to the all zeros solution (large $λ$).  Appropriate values of $λ$ may range from $10^−6$ to 20, spaced logarithmically.  Explain the result."
   ]
  },
  {
   "cell_type": "code",
   "execution_count": 60,
   "metadata": {},
   "outputs": [],
   "source": [
    "def ista_solve_hot( A, d, la_array ):\n",
    "    # ista_solve_hot: Iterative soft-thresholding for multiple values of\n",
    "    # lambda with hot start for each case - the converged value for the previous\n",
    "    # value of lambda is used as an initial condition for the current lambda.\n",
    "    # this function solves the minimization problem\n",
    "    # Minimize |Ax-d|_2^2 + lambda*|x|_1 (Lasso regression)\n",
    "    # using iterative soft-thresholding.\n",
    "    max_iter = 10**4\n",
    "    tol = 10**(-3)\n",
    "    tau = 1/np.linalg.norm(A,2)**2\n",
    "    n = A.shape[1]\n",
    "    w = np.zeros((n,1))\n",
    "    num_lam = len(la_array)\n",
    "    X = np.zeros((n, num_lam))\n",
    "    for i, each_lambda in enumerate(la_array):\n",
    "        for j in range(max_iter):\n",
    "            z = w - tau*(A.T@(A@w-d))\n",
    "            w_old = w\n",
    "            w = np.sign(z) * np.clip(np.abs(z)-tau*each_lambda/2, 0, np.inf)\n",
    "            X[:, i:i+1] = w\n",
    "            \n",
    "            if np.linalg.norm(w - w_old) < tol:\n",
    "                #print(X[:, i:i+1])\n",
    "                break\n",
    "    return X"
   ]
  },
  {
   "cell_type": "code",
   "execution_count": 82,
   "metadata": {},
   "outputs": [],
   "source": [
    "## Breast Cancer LASSO Exploration\n",
    "## Prepare workspace\n",
    "from scipy.io import loadmat\n",
    "import numpy as np\n",
    "X = loadmat(\"BreastCancer.mat\")['X']\n",
    "y = loadmat(\"BreastCancer.mat\")['y']\n",
    "\n",
    "\n",
    "##  10-fold CV \n",
    "\n",
    "# each row of setindices denotes the starting an ending index for one\n",
    "# partition of the data: 5 sets of 30 samples and 5 sets of 29 samples\n",
    "setindices = [[1,30],[31,60],[61,90],[91,120],[121,150],[151,179],[180,208],[209,237],[238,266],[267,295]] # total 10 sets\n",
    "\n",
    "# each row of holdoutindices denotes the partitions that are held out from\n",
    "# the training set\n",
    "holdoutindices = [[1,2],[2,3],[3,4],[4,5],[5,6],[6,7],[7,8],[9,10],[10,1]]\n",
    "\n",
    "cases = len(holdoutindices)\n",
    "\n",
    "# be sure to initiate the quantities you want to measure before looping\n",
    "# through the various training, validation, and test partitions\n",
    "\n",
    "# Loop over various cases\n",
    "for j in range(cases):\n",
    "    # row indices of first validation set\n",
    "    v1_ind = np.arange(setindices[holdoutindices[j][0]-1][0]-1,setindices[holdoutindices[j][0]-1][1])\n",
    "    \n",
    "    # row indices of second validation set\n",
    "    v2_ind = np.arange(setindices[holdoutindices[j][1]-1][0]-1,setindices[holdoutindices[j][1]-1][1])\n",
    "    \n",
    "    # row indices of training set\n",
    "    trn_ind = list(set(range(295))-set(v1_ind)-set(v2_ind))\n",
    "    \n",
    "    # define matrix of features and labels corresponding to first\n",
    "    # validation set\n",
    "    Av1 = X[v1_ind,:]\n",
    "    bv1 = y[v1_ind]\n",
    "    \n",
    "    # define matrix of features and labels corresponding to second\n",
    "    # validation set\n",
    "    Av2 = X[v2_ind,:]\n",
    "    bv2 = y[v2_ind]\n",
    "    \n",
    "    # define matrix of features and labels corresponding to the \n",
    "    # training set\n",
    "    At = X[trn_ind,:]\n",
    "    bt = y[trn_ind]\n",
    "    \n",
    "    #print(len(v1_ind), len(v2_ind), len(trn_ind))\n",
    "    \n",
    "lam_vals = np.logspace(np.log10(1e-6), np.log10(20), 60, endpoint= True)\n",
    "# Use training data to learn classifier\n",
    "W = ista_solve_hot(At,bt,lam_vals)\n",
    "\n",
    "# Find best lambda value using first validation set, then evaluate\n",
    "# performance on second validation set, and accumulate performance metrics\n",
    "# over all cases partitions\n",
    "one_norm = []\n",
    "two_norm_sq = []\n",
    "for i in range(len(lam_vals)):\n",
    "    w = W[:,i]\n",
    "    w_1 = np.sum(np.sign(w))\n",
    "    sqe_2 = np.linalg.norm(X @ w - y,2)\n",
    "    one_norm.append(w_1)\n",
    "    two_norm_sq.append(sqe_2)"
   ]
  },
  {
   "cell_type": "code",
   "execution_count": 88,
   "metadata": {},
   "outputs": [
    {
     "data": {
      "image/png": "[encoded data removed]",
      "text/plain": [
       "<Figure size 864x432 with 1 Axes>"
      ]
     },
     "metadata": {
      "needs_background": "light"
     },
     "output_type": "display_data"
    }
   ],
   "source": [
    "import matplotlib.pyplot as plt \n",
    "fig, ax = plt.subplots(figsize=(12, 6))\n",
    "\n",
    "ax.scatter(one_norm, two_norm_sq) \n",
    "plt.title('1-norm vs 2-norm-squared across λ')\n",
    "plt.xlim(0, 180)\n",
    "plt.xlabel(\"1-norm\")\n",
    "plt.ylabel(\"2-norm squared error\")\n",
    "plt.show()"
   ]
  },
  {
   "cell_type": "markdown",
   "metadata": {},
   "source": [
    "b)  Next use your solutions from part a) to plot the error rate on the vertical-axis versus the sparsity on the horizontal-axis as $λ$ varies.  Define the error rate as the number of incorrect predictions divided by the total number of predictions and the sparsity as the number of nonzero entries in $w^∗$.  For this purpose, we’ll say an entry $w_i$ is nonzero if $|w_i|>10−6$.  Calculate the error rate using the training data,the data used to find the optimal weights.  Explain the result."
   ]
  },
  {
   "cell_type": "code",
   "execution_count": null,
   "metadata": {},
   "outputs": [],
   "source": []
  },
  {
   "cell_type": "markdown",
   "metadata": {},
   "source": [
    "c)  Repeat parts a) and b)to display the residual and error rate, respectively using validation or test data,  rows  101-295  of  the  data  matrix,  that  is,  the  data  not used to design the optimal classifier.  Again, explain what you see in each plot."
   ]
  },
  {
   "cell_type": "code",
   "execution_count": null,
   "metadata": {},
   "outputs": [],
   "source": []
  },
  {
   "cell_type": "markdown",
   "metadata": {},
   "source": [
    "2. Now compare the performance of the LASSO and ridge regression for the breast cancer dataset using the following steps:\n",
    "\n",
    "•Randomly split the set of 295 patients into ten subsets of size 29-30. 1 of 2\n",
    "\n",
    "•Use the data in eight of the subsets to find a solution to the Lasso optimization above and to the ridge regression problem $min_w ‖Aw−d‖_2^2+ λ* ‖w‖_2^2$. Repeat this for a range of $λ$ values to obtain a set of solutions $w_λ$.\n",
    "\n",
    "•Compute the prediction error using each $w_λ$ on oneof the remaining two of the ten subsets.  Use the solution that has the smallest prediction error to find the best $λ$.  Note that LASSO and ridge regression will produce different best values for $λ$.\n",
    "\n",
    "•Compute the test error on the final subset of the data for the choice of $λ$ that minimizes the prediction error.  Compute both the squared error and the error rate. Repeat  this  process  for  different  subsets  of  eight  training,  one  tuning  ($λ$)  and  one testing subsets,  and compute the average squared error and average number of mis-classifications across all different subsets. Note that you should use the identity derived in Problem 1 of the Activity 5.2 in order to speed the computation of ridge regression."
   ]
  },
  {
   "cell_type": "code",
   "execution_count": null,
   "metadata": {},
   "outputs": [],
   "source": []
  }
 ],
 "metadata": {
  "kernelspec": {
   "display_name": "Python 3",
   "language": "python",
   "name": "python3"
  },
  "language_info": {
   "codemirror_mode": {
    "name": "ipython",
    "version": 3
   },
   "file_extension": ".py",
   "mimetype": "text/x-python",
   "name": "python",
   "nbconvert_exporter": "python",
   "pygments_lexer": "ipython3",
   "version": "3.8.8"
  }
 },
 "nbformat": 4,
 "nbformat_minor": 4
}
