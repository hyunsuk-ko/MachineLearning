{
 "cells": [
  {
   "cell_type": "code",
   "execution_count": 4,
   "id": "2f54feec",
   "metadata": {},
   "outputs": [],
   "source": [
    "import numpy as np\n",
    "from scipy.io import loadmat\n",
    "import matplotlib.pyplot as plt \n",
    "import math\n",
    "\n",
    "in_data = loadmat('face_emotion_data.mat')"
   ]
  },
  {
   "cell_type": "markdown",
   "id": "11c2bea3",
   "metadata": {},
   "source": [
    "#### (a) Use the training data X and y and a least squares problem to train your classifier weights."
   ]
  },
  {
   "cell_type": "code",
   "execution_count": 5,
   "id": "18960050",
   "metadata": {},
   "outputs": [
    {
     "data": {
      "text/plain": [
       "array([[ 0.94366942],\n",
       "       [ 0.21373778],\n",
       "       [ 0.26641775],\n",
       "       [-0.39221373],\n",
       "       [-0.00538552],\n",
       "       [-0.01764687],\n",
       "       [-0.16632809],\n",
       "       [-0.0822838 ],\n",
       "       [-0.16644364]])"
      ]
     },
     "execution_count": 5,
     "metadata": {},
     "output_type": "execute_result"
    }
   ],
   "source": [
    "w = np.linalg.inv(in_data['X'].transpose()@in_data['X'])@in_data['X'].transpose()@in_data['y']\n",
    "w"
   ]
  },
  {
   "cell_type": "markdown",
   "id": "58e53fc5",
   "metadata": {},
   "source": [
    "#### (b) Explain how to use the weights you found to classify a new face image as happy or angry?\n",
    "\n",
    ": Linear classifer is written as $y = sign(x^Tw)$. According to the result we get from the linear classifier, we can classify whether image as happy or angry."
   ]
  },
  {
   "cell_type": "markdown",
   "id": "38c30a49",
   "metadata": {},
   "source": [
    "#### (c) Which features seem to be most important? Justify your answer. Note that the nine columns of the training data feature matrix X have been normalized to have the same two-norm.\n",
    "\n",
    ": As the first feature has the largest absolute value, it seems to be most important."
   ]
  },
  {
   "cell_type": "markdown",
   "id": "9b6b1c54",
   "metadata": {},
   "source": [
    "#### (d) Design a classifier based on three of the nine features. Which three should you choose? Describe the procedure for designing your classifier.\n",
    "\n",
    ": As first three features ([0.94366942, -0.39221373,0.26641775]) have top three largest absolute values, they are going to be our features. "
   ]
  },
  {
   "cell_type": "markdown",
   "id": "7dd7e0be",
   "metadata": {},
   "source": [
    "#### (e) What percent of the training labels are incorrectly classified using all nine features? What percent of the training labels are incorrectly classified using your reduced set of three features?\n",
    "\n",
    "- All nine features: 2.34375% misclassifcation\n",
    "- Three features: 6.25% misclassifcation"
   ]
  },
  {
   "cell_type": "code",
   "execution_count": 6,
   "id": "8fc02840",
   "metadata": {},
   "outputs": [
    {
     "data": {
      "text/plain": [
       "2.34375"
      ]
     },
     "execution_count": 6,
     "metadata": {},
     "output_type": "execute_result"
    }
   ],
   "source": [
    "w_opt = np.linalg.inv(in_data['X'].transpose()@in_data['X'])@in_data['X'].transpose()@in_data['y']\n",
    "y_hat = np.sign(in_data['X']@w_opt)\n",
    "error_vec = [0 if i[0]==i[1] else 1 for i in np.hstack((y_hat, in_data['y']))]\n",
    "100 * sum(error_vec) / len(in_data['y'])"
   ]
  },
  {
   "cell_type": "code",
   "execution_count": 7,
   "id": "e76c166d",
   "metadata": {},
   "outputs": [
    {
     "data": {
      "text/plain": [
       "6.25"
      ]
     },
     "execution_count": 7,
     "metadata": {},
     "output_type": "execute_result"
    }
   ],
   "source": [
    "partial_x = in_data['X'][:,[0,2,3]]\n",
    "\n",
    "w_opt_2 = np.linalg.inv(partial_x.transpose()@partial_x)@partial_x.transpose()@in_data['y']\n",
    "y_hat_2 = np.sign(partial_x@w_opt_2)\n",
    "error_vec_2 = [0 if i[0]==i[1] else 1 for i in np.hstack((y_hat_2, in_data['y']))]\n",
    "100 * sum(error_vec_2) / len(in_data['y'])"
   ]
  },
  {
   "cell_type": "markdown",
   "id": "9e903ff4",
   "metadata": {},
   "source": [
    "#### (f) Now use cross validation to assess your classifier performance. Divide the available data in to eight subsets of sixteen samples (e.g., examples 1-16; 17-32; ... ; 113- 128). Use seven sets to design your classifier weights, then use the remaining hold-out set to evaluate the classifier performance. Compute the number of mis-classifications made on this hold-out set and divide that number by 16 (the size of the set) to estimate the error rate for that hold-out set. Repeat this process eight times using the eight different possible divisions between training and hold-out sets and average the error rates to obtain a final performance estimate."
   ]
  },
  {
   "cell_type": "code",
   "execution_count": 8,
   "id": "e2fe8b25",
   "metadata": {},
   "outputs": [],
   "source": [
    "from sklearn.model_selection import cross_validate\n",
    "\n",
    "X = in_data['X']\n",
    "y = in_data['y']\n",
    "\n",
    "X_subsets = [X[:16,:], X[16:32,:], X[32:48,:], X[48:64,:], X[64:80,:], X[80:96,:], X[96:112,:], X[112:,:]]\n",
    "y_subsets = [y[:16,:], y[16:32,:], y[32:48,:], y[48:64,:], y[64:80,:], y[80:96,:], y[96:112,:], y[112:,:]]"
   ]
  },
  {
   "cell_type": "code",
   "execution_count": 9,
   "id": "c92284d8",
   "metadata": {},
   "outputs": [
    {
     "name": "stdout",
     "output_type": "stream",
     "text": [
      "Number of errors for fold 0 = 1\n",
      "Error Rate for fold 0 = 0.0625\n",
      "\n",
      "Number of errors for fold 1 = 1\n",
      "Error Rate for fold 1 = 0.0625\n",
      "\n",
      "Number of errors for fold 2 = 2\n",
      "Error Rate for fold 2 = 0.125\n",
      "\n",
      "Number of errors for fold 3 = 1\n",
      "Error Rate for fold 3 = 0.0625\n",
      "\n",
      "Number of errors for fold 4 = 0\n",
      "Error Rate for fold 4 = 0.0\n",
      "\n",
      "Number of errors for fold 5 = 1\n",
      "Error Rate for fold 5 = 0.0625\n",
      "\n",
      "Number of errors for fold 6 = 0\n",
      "Error Rate for fold 6 = 0.0\n",
      "\n",
      "Number of errors for fold 7 = 0\n",
      "Error Rate for fold 7 = 0.0\n",
      "\n",
      "Total errors = 6\n",
      "Total error rate =  0.046875\n"
     ]
    }
   ],
   "source": [
    "tot_errors = 0\n",
    "for i in range(8):\n",
    "    X = X_subsets.copy()\n",
    "    y = y_subsets.copy()\n",
    "    X_test = X.pop(i)\n",
    "    y_test = y.pop(i) # use the remaining hold-out set to evaluate the classifier performance\n",
    "    X_train = np.vstack((X)) # Use seven sets to design your classifier weights\n",
    "    y_train = np.vstack((y))\n",
    "    \n",
    "    w_opt = np.linalg.inv(X_train.transpose()@X_train)@X_train.transpose()@y_train\n",
    "    y_hat = np.sign(X_test@w_opt)\n",
    "    \n",
    "    error_vec = [0 if i[0]==i[1] else 1 for i in np.hstack((y_hat, y_test))]\n",
    "    tot_errors += sum(error_vec)\n",
    "    print(f\"Number of errors for fold {i} =\",sum(error_vec))\n",
    "    print(f\"Error Rate for fold {i} =\", sum(error_vec) / 16)\n",
    "    print()\n",
    "print(\"Total errors =\", tot_errors) \n",
    "print(\"Total error rate = \", tot_errors / 128)"
   ]
  },
  {
   "cell_type": "code",
   "execution_count": null,
   "id": "f0c378a3",
   "metadata": {},
   "outputs": [],
   "source": []
  }
 ],
 "metadata": {
  "kernelspec": {
   "display_name": "Python 3",
   "language": "python",
   "name": "python3"
  },
  "language_info": {
   "codemirror_mode": {
    "name": "ipython",
    "version": 3
   },
   "file_extension": ".py",
   "mimetype": "text/x-python",
   "name": "python",
   "nbconvert_exporter": "python",
   "pygments_lexer": "ipython3",
   "version": "3.8.8"
  }
 },
 "nbformat": 4,
 "nbformat_minor": 5
}
